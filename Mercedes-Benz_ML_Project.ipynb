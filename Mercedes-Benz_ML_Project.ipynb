{
 "cells": [
  {
   "cell_type": "markdown",
   "id": "de299577",
   "metadata": {},
   "source": [
    "### Import the required libraries"
   ]
  },
  {
   "cell_type": "code",
   "execution_count": 1,
   "id": "617321df",
   "metadata": {},
   "outputs": [],
   "source": [
    "import pandas as pd\n",
    "import numpy as np\n",
    "from sklearn.preprocessing import LabelEncoder\n",
    "import matplotlib.pyplot as plt\n",
    "import seaborn as sns\n",
    "from scipy.stats import norm\n",
    "import warnings\n",
    "warnings.filterwarnings('ignore')\n",
    "from sklearn.decomposition import PCA\n",
    "from sklearn.model_selection import train_test_split"
   ]
  },
  {
   "cell_type": "markdown",
   "id": "07417718",
   "metadata": {},
   "source": [
    "### Import the train & test dataset"
   ]
  },
  {
   "cell_type": "code",
   "execution_count": 2,
   "id": "d2138145",
   "metadata": {},
   "outputs": [],
   "source": [
    "train_df = pd.read_csv(r'C:\\Users\\hai\\Downloads\\train\\Mercedes_train.csv')\n",
    "test_df = pd.read_csv(r'C:\\Users\\hai\\Downloads\\test\\Mercedes_test.csv')"
   ]
  },
  {
   "cell_type": "markdown",
   "id": "d8e20042",
   "metadata": {},
   "source": [
    "#### View the dataset"
   ]
  },
  {
   "cell_type": "code",
   "execution_count": 3,
   "id": "31587ff4",
   "metadata": {},
   "outputs": [
    {
     "data": {
      "text/html": [
       "<div>\n",
       "<style scoped>\n",
       "    .dataframe tbody tr th:only-of-type {\n",
       "        vertical-align: middle;\n",
       "    }\n",
       "\n",
       "    .dataframe tbody tr th {\n",
       "        vertical-align: top;\n",
       "    }\n",
       "\n",
       "    .dataframe thead th {\n",
       "        text-align: right;\n",
       "    }\n",
       "</style>\n",
       "<table border=\"1\" class=\"dataframe\">\n",
       "  <thead>\n",
       "    <tr style=\"text-align: right;\">\n",
       "      <th></th>\n",
       "      <th>ID</th>\n",
       "      <th>y</th>\n",
       "      <th>X0</th>\n",
       "      <th>X1</th>\n",
       "      <th>X2</th>\n",
       "      <th>X3</th>\n",
       "      <th>X4</th>\n",
       "      <th>X5</th>\n",
       "      <th>X6</th>\n",
       "      <th>X8</th>\n",
       "      <th>...</th>\n",
       "      <th>X375</th>\n",
       "      <th>X376</th>\n",
       "      <th>X377</th>\n",
       "      <th>X378</th>\n",
       "      <th>X379</th>\n",
       "      <th>X380</th>\n",
       "      <th>X382</th>\n",
       "      <th>X383</th>\n",
       "      <th>X384</th>\n",
       "      <th>X385</th>\n",
       "    </tr>\n",
       "  </thead>\n",
       "  <tbody>\n",
       "    <tr>\n",
       "      <th>0</th>\n",
       "      <td>0</td>\n",
       "      <td>130.81</td>\n",
       "      <td>k</td>\n",
       "      <td>v</td>\n",
       "      <td>at</td>\n",
       "      <td>a</td>\n",
       "      <td>d</td>\n",
       "      <td>u</td>\n",
       "      <td>j</td>\n",
       "      <td>o</td>\n",
       "      <td>...</td>\n",
       "      <td>0</td>\n",
       "      <td>0</td>\n",
       "      <td>1</td>\n",
       "      <td>0</td>\n",
       "      <td>0</td>\n",
       "      <td>0</td>\n",
       "      <td>0</td>\n",
       "      <td>0</td>\n",
       "      <td>0</td>\n",
       "      <td>0</td>\n",
       "    </tr>\n",
       "    <tr>\n",
       "      <th>1</th>\n",
       "      <td>6</td>\n",
       "      <td>88.53</td>\n",
       "      <td>k</td>\n",
       "      <td>t</td>\n",
       "      <td>av</td>\n",
       "      <td>e</td>\n",
       "      <td>d</td>\n",
       "      <td>y</td>\n",
       "      <td>l</td>\n",
       "      <td>o</td>\n",
       "      <td>...</td>\n",
       "      <td>1</td>\n",
       "      <td>0</td>\n",
       "      <td>0</td>\n",
       "      <td>0</td>\n",
       "      <td>0</td>\n",
       "      <td>0</td>\n",
       "      <td>0</td>\n",
       "      <td>0</td>\n",
       "      <td>0</td>\n",
       "      <td>0</td>\n",
       "    </tr>\n",
       "    <tr>\n",
       "      <th>2</th>\n",
       "      <td>7</td>\n",
       "      <td>76.26</td>\n",
       "      <td>az</td>\n",
       "      <td>w</td>\n",
       "      <td>n</td>\n",
       "      <td>c</td>\n",
       "      <td>d</td>\n",
       "      <td>x</td>\n",
       "      <td>j</td>\n",
       "      <td>x</td>\n",
       "      <td>...</td>\n",
       "      <td>0</td>\n",
       "      <td>0</td>\n",
       "      <td>0</td>\n",
       "      <td>0</td>\n",
       "      <td>0</td>\n",
       "      <td>0</td>\n",
       "      <td>1</td>\n",
       "      <td>0</td>\n",
       "      <td>0</td>\n",
       "      <td>0</td>\n",
       "    </tr>\n",
       "    <tr>\n",
       "      <th>3</th>\n",
       "      <td>9</td>\n",
       "      <td>80.62</td>\n",
       "      <td>az</td>\n",
       "      <td>t</td>\n",
       "      <td>n</td>\n",
       "      <td>f</td>\n",
       "      <td>d</td>\n",
       "      <td>x</td>\n",
       "      <td>l</td>\n",
       "      <td>e</td>\n",
       "      <td>...</td>\n",
       "      <td>0</td>\n",
       "      <td>0</td>\n",
       "      <td>0</td>\n",
       "      <td>0</td>\n",
       "      <td>0</td>\n",
       "      <td>0</td>\n",
       "      <td>0</td>\n",
       "      <td>0</td>\n",
       "      <td>0</td>\n",
       "      <td>0</td>\n",
       "    </tr>\n",
       "    <tr>\n",
       "      <th>4</th>\n",
       "      <td>13</td>\n",
       "      <td>78.02</td>\n",
       "      <td>az</td>\n",
       "      <td>v</td>\n",
       "      <td>n</td>\n",
       "      <td>f</td>\n",
       "      <td>d</td>\n",
       "      <td>h</td>\n",
       "      <td>d</td>\n",
       "      <td>n</td>\n",
       "      <td>...</td>\n",
       "      <td>0</td>\n",
       "      <td>0</td>\n",
       "      <td>0</td>\n",
       "      <td>0</td>\n",
       "      <td>0</td>\n",
       "      <td>0</td>\n",
       "      <td>0</td>\n",
       "      <td>0</td>\n",
       "      <td>0</td>\n",
       "      <td>0</td>\n",
       "    </tr>\n",
       "  </tbody>\n",
       "</table>\n",
       "<p>5 rows × 378 columns</p>\n",
       "</div>"
      ],
      "text/plain": [
       "   ID       y  X0 X1  X2 X3 X4 X5 X6 X8  ...  X375  X376  X377  X378  X379  \\\n",
       "0   0  130.81   k  v  at  a  d  u  j  o  ...     0     0     1     0     0   \n",
       "1   6   88.53   k  t  av  e  d  y  l  o  ...     1     0     0     0     0   \n",
       "2   7   76.26  az  w   n  c  d  x  j  x  ...     0     0     0     0     0   \n",
       "3   9   80.62  az  t   n  f  d  x  l  e  ...     0     0     0     0     0   \n",
       "4  13   78.02  az  v   n  f  d  h  d  n  ...     0     0     0     0     0   \n",
       "\n",
       "   X380  X382  X383  X384  X385  \n",
       "0     0     0     0     0     0  \n",
       "1     0     0     0     0     0  \n",
       "2     0     1     0     0     0  \n",
       "3     0     0     0     0     0  \n",
       "4     0     0     0     0     0  \n",
       "\n",
       "[5 rows x 378 columns]"
      ]
     },
     "execution_count": 3,
     "metadata": {},
     "output_type": "execute_result"
    }
   ],
   "source": [
    "train_df.head()"
   ]
  },
  {
   "cell_type": "code",
   "execution_count": 4,
   "id": "bc1dfe58",
   "metadata": {},
   "outputs": [
    {
     "data": {
      "text/html": [
       "<div>\n",
       "<style scoped>\n",
       "    .dataframe tbody tr th:only-of-type {\n",
       "        vertical-align: middle;\n",
       "    }\n",
       "\n",
       "    .dataframe tbody tr th {\n",
       "        vertical-align: top;\n",
       "    }\n",
       "\n",
       "    .dataframe thead th {\n",
       "        text-align: right;\n",
       "    }\n",
       "</style>\n",
       "<table border=\"1\" class=\"dataframe\">\n",
       "  <thead>\n",
       "    <tr style=\"text-align: right;\">\n",
       "      <th></th>\n",
       "      <th>ID</th>\n",
       "      <th>X0</th>\n",
       "      <th>X1</th>\n",
       "      <th>X2</th>\n",
       "      <th>X3</th>\n",
       "      <th>X4</th>\n",
       "      <th>X5</th>\n",
       "      <th>X6</th>\n",
       "      <th>X8</th>\n",
       "      <th>X10</th>\n",
       "      <th>...</th>\n",
       "      <th>X375</th>\n",
       "      <th>X376</th>\n",
       "      <th>X377</th>\n",
       "      <th>X378</th>\n",
       "      <th>X379</th>\n",
       "      <th>X380</th>\n",
       "      <th>X382</th>\n",
       "      <th>X383</th>\n",
       "      <th>X384</th>\n",
       "      <th>X385</th>\n",
       "    </tr>\n",
       "  </thead>\n",
       "  <tbody>\n",
       "    <tr>\n",
       "      <th>0</th>\n",
       "      <td>1</td>\n",
       "      <td>az</td>\n",
       "      <td>v</td>\n",
       "      <td>n</td>\n",
       "      <td>f</td>\n",
       "      <td>d</td>\n",
       "      <td>t</td>\n",
       "      <td>a</td>\n",
       "      <td>w</td>\n",
       "      <td>0</td>\n",
       "      <td>...</td>\n",
       "      <td>0</td>\n",
       "      <td>0</td>\n",
       "      <td>0</td>\n",
       "      <td>1</td>\n",
       "      <td>0</td>\n",
       "      <td>0</td>\n",
       "      <td>0</td>\n",
       "      <td>0</td>\n",
       "      <td>0</td>\n",
       "      <td>0</td>\n",
       "    </tr>\n",
       "    <tr>\n",
       "      <th>1</th>\n",
       "      <td>2</td>\n",
       "      <td>t</td>\n",
       "      <td>b</td>\n",
       "      <td>ai</td>\n",
       "      <td>a</td>\n",
       "      <td>d</td>\n",
       "      <td>b</td>\n",
       "      <td>g</td>\n",
       "      <td>y</td>\n",
       "      <td>0</td>\n",
       "      <td>...</td>\n",
       "      <td>0</td>\n",
       "      <td>0</td>\n",
       "      <td>1</td>\n",
       "      <td>0</td>\n",
       "      <td>0</td>\n",
       "      <td>0</td>\n",
       "      <td>0</td>\n",
       "      <td>0</td>\n",
       "      <td>0</td>\n",
       "      <td>0</td>\n",
       "    </tr>\n",
       "    <tr>\n",
       "      <th>2</th>\n",
       "      <td>3</td>\n",
       "      <td>az</td>\n",
       "      <td>v</td>\n",
       "      <td>as</td>\n",
       "      <td>f</td>\n",
       "      <td>d</td>\n",
       "      <td>a</td>\n",
       "      <td>j</td>\n",
       "      <td>j</td>\n",
       "      <td>0</td>\n",
       "      <td>...</td>\n",
       "      <td>0</td>\n",
       "      <td>0</td>\n",
       "      <td>0</td>\n",
       "      <td>1</td>\n",
       "      <td>0</td>\n",
       "      <td>0</td>\n",
       "      <td>0</td>\n",
       "      <td>0</td>\n",
       "      <td>0</td>\n",
       "      <td>0</td>\n",
       "    </tr>\n",
       "    <tr>\n",
       "      <th>3</th>\n",
       "      <td>4</td>\n",
       "      <td>az</td>\n",
       "      <td>l</td>\n",
       "      <td>n</td>\n",
       "      <td>f</td>\n",
       "      <td>d</td>\n",
       "      <td>z</td>\n",
       "      <td>l</td>\n",
       "      <td>n</td>\n",
       "      <td>0</td>\n",
       "      <td>...</td>\n",
       "      <td>0</td>\n",
       "      <td>0</td>\n",
       "      <td>0</td>\n",
       "      <td>1</td>\n",
       "      <td>0</td>\n",
       "      <td>0</td>\n",
       "      <td>0</td>\n",
       "      <td>0</td>\n",
       "      <td>0</td>\n",
       "      <td>0</td>\n",
       "    </tr>\n",
       "    <tr>\n",
       "      <th>4</th>\n",
       "      <td>5</td>\n",
       "      <td>w</td>\n",
       "      <td>s</td>\n",
       "      <td>as</td>\n",
       "      <td>c</td>\n",
       "      <td>d</td>\n",
       "      <td>y</td>\n",
       "      <td>i</td>\n",
       "      <td>m</td>\n",
       "      <td>0</td>\n",
       "      <td>...</td>\n",
       "      <td>1</td>\n",
       "      <td>0</td>\n",
       "      <td>0</td>\n",
       "      <td>0</td>\n",
       "      <td>0</td>\n",
       "      <td>0</td>\n",
       "      <td>0</td>\n",
       "      <td>0</td>\n",
       "      <td>0</td>\n",
       "      <td>0</td>\n",
       "    </tr>\n",
       "  </tbody>\n",
       "</table>\n",
       "<p>5 rows × 377 columns</p>\n",
       "</div>"
      ],
      "text/plain": [
       "   ID  X0 X1  X2 X3 X4 X5 X6 X8  X10  ...  X375  X376  X377  X378  X379  X380  \\\n",
       "0   1  az  v   n  f  d  t  a  w    0  ...     0     0     0     1     0     0   \n",
       "1   2   t  b  ai  a  d  b  g  y    0  ...     0     0     1     0     0     0   \n",
       "2   3  az  v  as  f  d  a  j  j    0  ...     0     0     0     1     0     0   \n",
       "3   4  az  l   n  f  d  z  l  n    0  ...     0     0     0     1     0     0   \n",
       "4   5   w  s  as  c  d  y  i  m    0  ...     1     0     0     0     0     0   \n",
       "\n",
       "   X382  X383  X384  X385  \n",
       "0     0     0     0     0  \n",
       "1     0     0     0     0  \n",
       "2     0     0     0     0  \n",
       "3     0     0     0     0  \n",
       "4     0     0     0     0  \n",
       "\n",
       "[5 rows x 377 columns]"
      ]
     },
     "execution_count": 4,
     "metadata": {},
     "output_type": "execute_result"
    }
   ],
   "source": [
    "test_df.head()"
   ]
  },
  {
   "cell_type": "markdown",
   "id": "34bfdabd",
   "metadata": {},
   "source": [
    "#### View the shape of the dataset(no.of rows & no.of columns)"
   ]
  },
  {
   "cell_type": "code",
   "execution_count": 5,
   "id": "25140418",
   "metadata": {},
   "outputs": [
    {
     "data": {
      "text/plain": [
       "(4209, 378)"
      ]
     },
     "execution_count": 5,
     "metadata": {},
     "output_type": "execute_result"
    }
   ],
   "source": [
    "train_df.shape"
   ]
  },
  {
   "cell_type": "code",
   "execution_count": 6,
   "id": "011f90bd",
   "metadata": {},
   "outputs": [
    {
     "data": {
      "text/plain": [
       "(4209, 377)"
      ]
     },
     "execution_count": 6,
     "metadata": {},
     "output_type": "execute_result"
    }
   ],
   "source": [
    "test_df.shape"
   ]
  },
  {
   "cell_type": "markdown",
   "id": "cd0403de",
   "metadata": {},
   "source": [
    "#### *There are 378 columns in Train dataset with X features named X0,X1,X2,X3,....X385 & y target named y.\n",
    "#### *There are 377 columns in Test dataset with only X features named X0,X1,X2,X3,....X385."
   ]
  },
  {
   "cell_type": "markdown",
   "id": "cd83fcee",
   "metadata": {},
   "source": [
    "#### Find the datatype of each column in the dataset and find its total count"
   ]
  },
  {
   "cell_type": "code",
   "execution_count": 7,
   "id": "d82ba0a2",
   "metadata": {},
   "outputs": [
    {
     "data": {
      "text/plain": [
       "int64      369\n",
       "object       8\n",
       "float64      1\n",
       "dtype: int64"
      ]
     },
     "execution_count": 7,
     "metadata": {},
     "output_type": "execute_result"
    }
   ],
   "source": [
    "train_df.dtypes.value_counts()"
   ]
  },
  {
   "cell_type": "code",
   "execution_count": 8,
   "id": "2d992d01",
   "metadata": {},
   "outputs": [
    {
     "data": {
      "text/plain": [
       "int64     369\n",
       "object      8\n",
       "dtype: int64"
      ]
     },
     "execution_count": 8,
     "metadata": {},
     "output_type": "execute_result"
    }
   ],
   "source": [
    "test_df.dtypes.value_counts()"
   ]
  },
  {
   "cell_type": "markdown",
   "id": "2442e357",
   "metadata": {},
   "source": [
    "#### *There are 369 integer columns, 8 object columns & 1 float column in train dataset.\n",
    "#### *There are 369 integer columns & 8 object columns in test dataset."
   ]
  },
  {
   "cell_type": "markdown",
   "id": "5db87bc0",
   "metadata": {},
   "source": [
    "#### Find if there is any null values in the dataset"
   ]
  },
  {
   "cell_type": "code",
   "execution_count": 9,
   "id": "2ae17cae",
   "metadata": {},
   "outputs": [
    {
     "data": {
      "text/plain": [
       "ID      0\n",
       "y       0\n",
       "X0      0\n",
       "X1      0\n",
       "X2      0\n",
       "       ..\n",
       "X380    0\n",
       "X382    0\n",
       "X383    0\n",
       "X384    0\n",
       "X385    0\n",
       "Length: 378, dtype: int64"
      ]
     },
     "execution_count": 9,
     "metadata": {},
     "output_type": "execute_result"
    }
   ],
   "source": [
    "train_df.isnull().sum()"
   ]
  },
  {
   "cell_type": "code",
   "execution_count": 10,
   "id": "55226a06",
   "metadata": {},
   "outputs": [
    {
     "data": {
      "text/plain": [
       "ID      0\n",
       "X0      0\n",
       "X1      0\n",
       "X2      0\n",
       "X3      0\n",
       "       ..\n",
       "X380    0\n",
       "X382    0\n",
       "X383    0\n",
       "X384    0\n",
       "X385    0\n",
       "Length: 377, dtype: int64"
      ]
     },
     "execution_count": 10,
     "metadata": {},
     "output_type": "execute_result"
    }
   ],
   "source": [
    "test_df.isnull().sum()"
   ]
  },
  {
   "cell_type": "markdown",
   "id": "7c670355",
   "metadata": {},
   "source": [
    "#### *There are no null values in both the train & test dataset."
   ]
  },
  {
   "cell_type": "markdown",
   "id": "f4de5c7b",
   "metadata": {},
   "source": [
    "### Find the unique values in both the datasets."
   ]
  },
  {
   "cell_type": "code",
   "execution_count": 11,
   "id": "c2410f4e",
   "metadata": {},
   "outputs": [
    {
     "name": "stdout",
     "output_type": "stream",
     "text": [
      "ID [   0    6    7 ... 8412 8415 8417]\n",
      "y [130.81  88.53  76.26 ...  85.71 108.77  87.48]\n",
      "X0 ['k' 'az' 't' 'al' 'o' 'w' 'j' 'h' 's' 'n' 'ay' 'f' 'x' 'y' 'aj' 'ak' 'am'\n",
      " 'z' 'q' 'at' 'ap' 'v' 'af' 'a' 'e' 'ai' 'd' 'aq' 'c' 'aa' 'ba' 'as' 'i'\n",
      " 'r' 'b' 'ax' 'bc' 'u' 'ad' 'au' 'm' 'l' 'aw' 'ao' 'ac' 'g' 'ab']\n",
      "X1 ['v' 't' 'w' 'b' 'r' 'l' 's' 'aa' 'c' 'a' 'e' 'h' 'z' 'j' 'o' 'u' 'p' 'n'\n",
      " 'i' 'y' 'd' 'f' 'm' 'k' 'g' 'q' 'ab']\n",
      "X2 ['at' 'av' 'n' 'e' 'as' 'aq' 'r' 'ai' 'ak' 'm' 'a' 'k' 'ae' 's' 'f' 'd'\n",
      " 'ag' 'ay' 'ac' 'ap' 'g' 'i' 'aw' 'y' 'b' 'ao' 'al' 'h' 'x' 'au' 't' 'an'\n",
      " 'z' 'ah' 'p' 'am' 'j' 'q' 'af' 'l' 'aa' 'c' 'o' 'ar']\n",
      "X3 ['a' 'e' 'c' 'f' 'd' 'b' 'g']\n",
      "X4 ['d' 'b' 'c' 'a']\n",
      "X5 ['u' 'y' 'x' 'h' 'g' 'f' 'j' 'i' 'd' 'c' 'af' 'ag' 'ab' 'ac' 'ad' 'ae'\n",
      " 'ah' 'l' 'k' 'n' 'm' 'p' 'q' 's' 'r' 'v' 'w' 'o' 'aa']\n",
      "X6 ['j' 'l' 'd' 'h' 'i' 'a' 'g' 'c' 'k' 'e' 'f' 'b']\n",
      "X8 ['o' 'x' 'e' 'n' 's' 'a' 'h' 'p' 'm' 'k' 'd' 'i' 'v' 'j' 'b' 'q' 'w' 'g'\n",
      " 'y' 'l' 'f' 'u' 'r' 't' 'c']\n",
      "X10 [0 1]\n",
      "X11 [0]\n",
      "X12 [0 1]\n",
      "X13 [1 0]\n",
      "X14 [0 1]\n",
      "X15 [0 1]\n",
      "X16 [0 1]\n",
      "X17 [0 1]\n",
      "X18 [1 0]\n",
      "X19 [0 1]\n",
      "X20 [0 1]\n",
      "X21 [1 0]\n",
      "X22 [0 1]\n",
      "X23 [0 1]\n",
      "X24 [0 1]\n",
      "X26 [0 1]\n",
      "X27 [0 1]\n",
      "X28 [0 1]\n",
      "X29 [0 1]\n",
      "X30 [0 1]\n",
      "X31 [1 0]\n",
      "X32 [0 1]\n",
      "X33 [0 1]\n",
      "X34 [0 1]\n",
      "X35 [1 0]\n",
      "X36 [0 1]\n",
      "X37 [1 0]\n",
      "X38 [0 1]\n",
      "X39 [0 1]\n",
      "X40 [0 1]\n",
      "X41 [0 1]\n",
      "X42 [0 1]\n",
      "X43 [0 1]\n",
      "X44 [0 1]\n",
      "X45 [0 1]\n",
      "X46 [1 0]\n",
      "X47 [0 1]\n",
      "X48 [0 1]\n",
      "X49 [0 1]\n",
      "X50 [0 1]\n",
      "X51 [0 1]\n",
      "X52 [0 1]\n",
      "X53 [0 1]\n",
      "X54 [0 1]\n",
      "X55 [0 1]\n",
      "X56 [0 1]\n",
      "X57 [0 1]\n",
      "X58 [1 0]\n",
      "X59 [0 1]\n",
      "X60 [0 1]\n",
      "X61 [0 1]\n",
      "X62 [0 1]\n",
      "X63 [0 1]\n",
      "X64 [0 1]\n",
      "X65 [0 1]\n",
      "X66 [0 1]\n",
      "X67 [0 1]\n",
      "X68 [1 0]\n",
      "X69 [0 1]\n",
      "X70 [1 0]\n",
      "X71 [0 1]\n",
      "X73 [0 1]\n",
      "X74 [1 0]\n",
      "X75 [0 1]\n",
      "X76 [0 1]\n",
      "X77 [0 1]\n",
      "X78 [0 1]\n",
      "X79 [0 1]\n",
      "X80 [0 1]\n",
      "X81 [0 1]\n",
      "X82 [0 1]\n",
      "X83 [0 1]\n",
      "X84 [0 1]\n",
      "X85 [1 0]\n",
      "X86 [0 1]\n",
      "X87 [0 1]\n",
      "X88 [0 1]\n",
      "X89 [0 1]\n",
      "X90 [0 1]\n",
      "X91 [0 1]\n",
      "X92 [0 1]\n",
      "X93 [0]\n",
      "X94 [0 1]\n",
      "X95 [0 1]\n",
      "X96 [0 1]\n",
      "X97 [0 1]\n",
      "X98 [0 1]\n",
      "X99 [0 1]\n",
      "X100 [0 1]\n",
      "X101 [0 1]\n",
      "X102 [0 1]\n",
      "X103 [0 1]\n",
      "X104 [0 1]\n",
      "X105 [0 1]\n",
      "X106 [0 1]\n",
      "X107 [0]\n",
      "X108 [0 1]\n",
      "X109 [0 1]\n",
      "X110 [0 1]\n",
      "X111 [1 0]\n",
      "X112 [0 1]\n",
      "X113 [0 1]\n",
      "X114 [1 0]\n",
      "X115 [0 1]\n",
      "X116 [1 0]\n",
      "X117 [0 1]\n",
      "X118 [1 0]\n",
      "X119 [1 0]\n",
      "X120 [1 0]\n",
      "X122 [0 1]\n",
      "X123 [0 1]\n",
      "X124 [0 1]\n",
      "X125 [0 1]\n",
      "X126 [0 1]\n",
      "X127 [0 1]\n",
      "X128 [1 0]\n",
      "X129 [0 1]\n",
      "X130 [0 1]\n",
      "X131 [1 0]\n",
      "X132 [0 1]\n",
      "X133 [0 1]\n",
      "X134 [0 1]\n",
      "X135 [0 1]\n",
      "X136 [1 0]\n",
      "X137 [1 0]\n",
      "X138 [0 1]\n",
      "X139 [0 1]\n",
      "X140 [0 1]\n",
      "X141 [0 1]\n",
      "X142 [1 0]\n",
      "X143 [0 1]\n",
      "X144 [1 0]\n",
      "X145 [0 1]\n",
      "X146 [0 1]\n",
      "X147 [0 1]\n",
      "X148 [0 1]\n",
      "X150 [1 0]\n",
      "X151 [0 1]\n",
      "X152 [0 1]\n",
      "X153 [0 1]\n",
      "X154 [0 1]\n",
      "X155 [0 1]\n",
      "X156 [1 0]\n",
      "X157 [0 1]\n",
      "X158 [0 1]\n",
      "X159 [0 1]\n",
      "X160 [0 1]\n",
      "X161 [0 1]\n",
      "X162 [0 1]\n",
      "X163 [0 1]\n",
      "X164 [0 1]\n",
      "X165 [0 1]\n",
      "X166 [0 1]\n",
      "X167 [0 1]\n",
      "X168 [0 1]\n",
      "X169 [0 1]\n",
      "X170 [1 0]\n",
      "X171 [0 1]\n",
      "X172 [0 1]\n",
      "X173 [0 1]\n",
      "X174 [0 1]\n",
      "X175 [0 1]\n",
      "X176 [0 1]\n",
      "X177 [0 1]\n",
      "X178 [0 1]\n",
      "X179 [1 0]\n",
      "X180 [0 1]\n",
      "X181 [0 1]\n",
      "X182 [0 1]\n",
      "X183 [0 1]\n",
      "X184 [1 0]\n",
      "X185 [0 1]\n",
      "X186 [0 1]\n",
      "X187 [1 0]\n",
      "X189 [1 0]\n",
      "X190 [0 1]\n",
      "X191 [0 1]\n",
      "X192 [0 1]\n",
      "X194 [1 0]\n",
      "X195 [0 1]\n",
      "X196 [0 1]\n",
      "X197 [0 1]\n",
      "X198 [0 1]\n",
      "X199 [0 1]\n",
      "X200 [0 1]\n",
      "X201 [0 1]\n",
      "X202 [0 1]\n",
      "X203 [0 1]\n",
      "X204 [1 0]\n",
      "X205 [0 1]\n",
      "X206 [0 1]\n",
      "X207 [0 1]\n",
      "X208 [0 1]\n",
      "X209 [1 0]\n",
      "X210 [0 1]\n",
      "X211 [0 1]\n",
      "X212 [0 1]\n",
      "X213 [0 1]\n",
      "X214 [0 1]\n",
      "X215 [0 1]\n",
      "X216 [0 1]\n",
      "X217 [0 1]\n",
      "X218 [0 1]\n",
      "X219 [0 1]\n",
      "X220 [1 0]\n",
      "X221 [0 1]\n",
      "X222 [0 1]\n",
      "X223 [0 1]\n",
      "X224 [0 1]\n",
      "X225 [0 1]\n",
      "X226 [0 1]\n",
      "X227 [0 1]\n",
      "X228 [0 1]\n",
      "X229 [0 1]\n",
      "X230 [0 1]\n",
      "X231 [0 1]\n",
      "X232 [0 1]\n",
      "X233 [0]\n",
      "X234 [1 0]\n",
      "X235 [0]\n",
      "X236 [0 1]\n",
      "X237 [1 0]\n",
      "X238 [0 1]\n",
      "X239 [0 1]\n",
      "X240 [0 1]\n",
      "X241 [0 1]\n",
      "X242 [0 1]\n",
      "X243 [0 1]\n",
      "X244 [0 1]\n",
      "X245 [0 1]\n",
      "X246 [0 1]\n",
      "X247 [0 1]\n",
      "X248 [0 1]\n",
      "X249 [0 1]\n",
      "X250 [0 1]\n",
      "X251 [0 1]\n",
      "X252 [0 1]\n",
      "X253 [0 1]\n",
      "X254 [0 1]\n",
      "X255 [0 1]\n",
      "X256 [0 1]\n",
      "X257 [0 1]\n",
      "X258 [0 1]\n",
      "X259 [0 1]\n",
      "X260 [0 1]\n",
      "X261 [0 1]\n",
      "X262 [1 0]\n",
      "X263 [1 0]\n",
      "X264 [0 1]\n",
      "X265 [0 1]\n",
      "X266 [1 0]\n",
      "X267 [0 1]\n",
      "X268 [0]\n",
      "X269 [0 1]\n",
      "X270 [0 1]\n",
      "X271 [0 1]\n",
      "X272 [0 1]\n",
      "X273 [1 0]\n",
      "X274 [0 1]\n",
      "X275 [1 0]\n",
      "X276 [0 1]\n",
      "X277 [0 1]\n",
      "X278 [0 1]\n",
      "X279 [0 1]\n",
      "X280 [0 1]\n",
      "X281 [0 1]\n",
      "X282 [0 1]\n",
      "X283 [0 1]\n",
      "X284 [0 1]\n",
      "X285 [1 0]\n",
      "X286 [0 1]\n",
      "X287 [0 1]\n",
      "X288 [0 1]\n",
      "X289 [0]\n",
      "X290 [0]\n",
      "X291 [0 1]\n",
      "X292 [0 1]\n",
      "X293 [0]\n",
      "X294 [0 1]\n",
      "X295 [0 1]\n",
      "X296 [0 1]\n",
      "X297 [0]\n",
      "X298 [0 1]\n",
      "X299 [0 1]\n",
      "X300 [0 1]\n",
      "X301 [0 1]\n",
      "X302 [0 1]\n",
      "X304 [0 1]\n",
      "X305 [0 1]\n",
      "X306 [1 0]\n",
      "X307 [0 1]\n",
      "X308 [0 1]\n",
      "X309 [0 1]\n",
      "X310 [0 1]\n",
      "X311 [0 1]\n",
      "X312 [0 1]\n",
      "X313 [0 1]\n",
      "X314 [0 1]\n",
      "X315 [0 1]\n",
      "X316 [1 0]\n",
      "X317 [0 1]\n",
      "X318 [0 1]\n",
      "X319 [0 1]\n",
      "X320 [0 1]\n",
      "X321 [0 1]\n",
      "X322 [0 1]\n",
      "X323 [0 1]\n",
      "X324 [1 0]\n",
      "X325 [0 1]\n",
      "X326 [0 1]\n",
      "X327 [1 0]\n",
      "X328 [0 1]\n",
      "X329 [1 0]\n",
      "X330 [0]\n",
      "X331 [0 1]\n",
      "X332 [0 1]\n",
      "X333 [0 1]\n",
      "X334 [1 0]\n",
      "X335 [0 1]\n",
      "X336 [0 1]\n",
      "X337 [0 1]\n",
      "X338 [0 1]\n",
      "X339 [0 1]\n",
      "X340 [0 1]\n",
      "X341 [0 1]\n",
      "X342 [0 1]\n",
      "X343 [0 1]\n",
      "X344 [0 1]\n",
      "X345 [0 1]\n",
      "X346 [0 1]\n",
      "X347 [0]\n",
      "X348 [0 1]\n",
      "X349 [0 1]\n",
      "X350 [0 1]\n",
      "X351 [0 1]\n",
      "X352 [0 1]\n",
      "X353 [0 1]\n",
      "X354 [1 0]\n",
      "X355 [0 1]\n",
      "X356 [0 1]\n",
      "X357 [0 1]\n",
      "X358 [0 1]\n",
      "X359 [0 1]\n",
      "X360 [0 1]\n",
      "X361 [1 0]\n",
      "X362 [0 1]\n",
      "X363 [0 1]\n",
      "X364 [0 1]\n",
      "X365 [0 1]\n",
      "X366 [0 1]\n",
      "X367 [0 1]\n",
      "X368 [0 1]\n",
      "X369 [0 1]\n",
      "X370 [0 1]\n",
      "X371 [0 1]\n",
      "X372 [0 1]\n",
      "X373 [0 1]\n",
      "X374 [0 1]\n",
      "X375 [0 1]\n",
      "X376 [0 1]\n",
      "X377 [1 0]\n",
      "X378 [0 1]\n",
      "X379 [0 1]\n",
      "X380 [0 1]\n",
      "X382 [0 1]\n",
      "X383 [0 1]\n",
      "X384 [0 1]\n",
      "X385 [0 1]\n",
      "ID [   1    2    3 ... 8413 8414 8416]\n",
      "X0 ['az' 't' 'w' 'y' 'x' 'f' 'ap' 'o' 'ay' 'al' 'h' 'z' 'aj' 'd' 'v' 'ak'\n",
      " 'ba' 'n' 'j' 's' 'af' 'ax' 'at' 'aq' 'av' 'm' 'k' 'a' 'e' 'ai' 'i' 'ag'\n",
      " 'b' 'am' 'aw' 'as' 'r' 'ao' 'u' 'l' 'c' 'ad' 'au' 'bc' 'g' 'an' 'ae' 'p'\n",
      " 'bb']\n",
      "X1 ['v' 'b' 'l' 's' 'aa' 'r' 'a' 'i' 'p' 'c' 'o' 'm' 'z' 'e' 'h' 'w' 'g' 'k'\n",
      " 'y' 't' 'u' 'd' 'j' 'q' 'n' 'f' 'ab']\n",
      "X2 ['n' 'ai' 'as' 'ae' 's' 'b' 'e' 'ak' 'm' 'a' 'aq' 'ag' 'r' 'k' 'aj' 'ay'\n",
      " 'ao' 'an' 'ac' 'af' 'ax' 'h' 'i' 'f' 'ap' 'p' 'au' 't' 'z' 'y' 'aw' 'd'\n",
      " 'at' 'g' 'am' 'j' 'x' 'ab' 'w' 'q' 'ah' 'ad' 'al' 'av' 'u']\n",
      "X3 ['f' 'a' 'c' 'e' 'd' 'g' 'b']\n",
      "X4 ['d' 'b' 'a' 'c']\n",
      "X5 ['t' 'b' 'a' 'z' 'y' 'x' 'h' 'g' 'f' 'j' 'i' 'd' 'c' 'af' 'ag' 'ab' 'ac'\n",
      " 'ad' 'ae' 'ah' 'l' 'k' 'n' 'm' 'p' 'q' 's' 'r' 'v' 'w' 'o' 'aa']\n",
      "X6 ['a' 'g' 'j' 'l' 'i' 'd' 'f' 'h' 'c' 'k' 'e' 'b']\n",
      "X8 ['w' 'y' 'j' 'n' 'm' 's' 'a' 'v' 'r' 'o' 't' 'h' 'c' 'k' 'p' 'u' 'd' 'g'\n",
      " 'b' 'q' 'e' 'l' 'f' 'i' 'x']\n",
      "X10 [0 1]\n",
      "X11 [0 1]\n",
      "X12 [0 1]\n",
      "X13 [0 1]\n",
      "X14 [0 1]\n",
      "X15 [0 1]\n",
      "X16 [0 1]\n",
      "X17 [0 1]\n",
      "X18 [0 1]\n",
      "X19 [0 1]\n",
      "X20 [0 1]\n",
      "X21 [0 1]\n",
      "X22 [0 1]\n",
      "X23 [0 1]\n",
      "X24 [0 1]\n",
      "X26 [0 1]\n",
      "X27 [1 0]\n",
      "X28 [1 0]\n",
      "X29 [1 0]\n",
      "X30 [0 1]\n",
      "X31 [1 0]\n",
      "X32 [0 1]\n",
      "X33 [0 1]\n",
      "X34 [0 1]\n",
      "X35 [1 0]\n",
      "X36 [0 1]\n",
      "X37 [1 0]\n",
      "X38 [0 1]\n",
      "X39 [0 1]\n",
      "X40 [0 1]\n",
      "X41 [0 1]\n",
      "X42 [0 1]\n",
      "X43 [1 0]\n",
      "X44 [0 1]\n",
      "X45 [0 1]\n",
      "X46 [1 0]\n",
      "X47 [0 1]\n",
      "X48 [0 1]\n",
      "X49 [0 1]\n",
      "X50 [0 1]\n",
      "X51 [0 1]\n",
      "X52 [0 1]\n",
      "X53 [0 1]\n",
      "X54 [1 0]\n",
      "X55 [0 1]\n",
      "X56 [0 1]\n",
      "X57 [0 1]\n",
      "X58 [0 1]\n",
      "X59 [0 1]\n",
      "X60 [0 1]\n",
      "X61 [1 0]\n",
      "X62 [0 1]\n",
      "X63 [0 1]\n",
      "X64 [0 1]\n",
      "X65 [0 1]\n",
      "X66 [0 1]\n",
      "X67 [0 1]\n",
      "X68 [0 1]\n",
      "X69 [0 1]\n",
      "X70 [1 0]\n",
      "X71 [0 1]\n",
      "X73 [0 1]\n",
      "X74 [1 0]\n",
      "X75 [0 1]\n",
      "X76 [1 0]\n",
      "X77 [0 1]\n",
      "X78 [0 1]\n",
      "X79 [0 1]\n",
      "X80 [1 0]\n",
      "X81 [0 1]\n",
      "X82 [0 1]\n",
      "X83 [0 1]\n",
      "X84 [0 1]\n",
      "X85 [0 1]\n",
      "X86 [0 1]\n",
      "X87 [0 1]\n",
      "X88 [0 1]\n",
      "X89 [0 1]\n",
      "X90 [0 1]\n",
      "X91 [0 1]\n",
      "X92 [0 1]\n",
      "X93 [0 1]\n",
      "X94 [0 1]\n",
      "X95 [0 1]\n",
      "X96 [1 0]\n",
      "X97 [0 1]\n",
      "X98 [1 0]\n",
      "X99 [0 1]\n",
      "X100 [0 1]\n",
      "X101 [1 0]\n",
      "X102 [0 1]\n",
      "X103 [0 1]\n",
      "X104 [0 1]\n",
      "X105 [0 1]\n",
      "X106 [0 1]\n",
      "X107 [0 1]\n",
      "X108 [0 1]\n",
      "X109 [0 1]\n",
      "X110 [0 1]\n",
      "X111 [1 0]\n",
      "X112 [0 1]\n",
      "X113 [0 1]\n",
      "X114 [1 0]\n",
      "X115 [0 1]\n",
      "X116 [0 1]\n",
      "X117 [0 1]\n",
      "X118 [0 1]\n",
      "X119 [0 1]\n",
      "X120 [0 1]\n",
      "X122 [0 1]\n",
      "X123 [0 1]\n",
      "X124 [0 1]\n",
      "X125 [0 1]\n",
      "X126 [0 1]\n",
      "X127 [0 1]\n",
      "X128 [1 0]\n",
      "X129 [0 1]\n",
      "X130 [0 1]\n",
      "X131 [0 1]\n",
      "X132 [1 0]\n",
      "X133 [0 1]\n",
      "X134 [0 1]\n",
      "X135 [0 1]\n",
      "X136 [0 1]\n",
      "X137 [0 1]\n",
      "X138 [0 1]\n",
      "X139 [0 1]\n",
      "X140 [0 1]\n",
      "X141 [0 1]\n",
      "X142 [0 1]\n",
      "X143 [0 1]\n",
      "X144 [1 0]\n",
      "X145 [0 1]\n",
      "X146 [0 1]\n",
      "X147 [0 1]\n",
      "X148 [1 0]\n",
      "X150 [1 0]\n",
      "X151 [0 1]\n",
      "X152 [0 1]\n",
      "X153 [0 1]\n",
      "X154 [0 1]\n",
      "X155 [0 1]\n",
      "X156 [0 1]\n",
      "X157 [1 0]\n",
      "X158 [1 0]\n",
      "X159 [0 1]\n",
      "X160 [0 1]\n",
      "X161 [0 1]\n",
      "X162 [1 0]\n",
      "X163 [0 1]\n",
      "X164 [0 1]\n",
      "X165 [0 1]\n",
      "X166 [1 0]\n",
      "X167 [0 1]\n",
      "X168 [0 1]\n",
      "X169 [0 1]\n",
      "X170 [0 1]\n",
      "X171 [0 1]\n",
      "X172 [0 1]\n",
      "X173 [0 1]\n",
      "X174 [0 1]\n",
      "X175 [0 1]\n",
      "X176 [0 1]\n",
      "X177 [0 1]\n",
      "X178 [0 1]\n",
      "X179 [1 0]\n",
      "X180 [0 1]\n",
      "X181 [0 1]\n",
      "X182 [0 1]\n",
      "X183 [0 1]\n",
      "X184 [0 1]\n",
      "X185 [1 0]\n",
      "X186 [0 1]\n",
      "X187 [0 1]\n",
      "X189 [0 1]\n",
      "X190 [0 1]\n",
      "X191 [0 1]\n",
      "X192 [0 1]\n",
      "X194 [1 0]\n",
      "X195 [0 1]\n",
      "X196 [0 1]\n",
      "X197 [0 1]\n",
      "X198 [0 1]\n",
      "X199 [0 1]\n",
      "X200 [0 1]\n",
      "X201 [0 1]\n",
      "X202 [0 1]\n",
      "X203 [0 1]\n",
      "X204 [1 0]\n",
      "X205 [0 1]\n",
      "X206 [0 1]\n",
      "X207 [0 1]\n",
      "X208 [0 1]\n",
      "X209 [1 0]\n",
      "X210 [0 1]\n",
      "X211 [0 1]\n",
      "X212 [0 1]\n",
      "X213 [0 1]\n",
      "X214 [0 1]\n",
      "X215 [0 1]\n",
      "X216 [0 1]\n",
      "X217 [0 1]\n",
      "X218 [1 0]\n",
      "X219 [0 1]\n",
      "X220 [1 0]\n",
      "X221 [0 1]\n",
      "X222 [0 1]\n",
      "X223 [1 0]\n",
      "X224 [0 1]\n",
      "X225 [0 1]\n",
      "X226 [0 1]\n",
      "X227 [0 1]\n",
      "X228 [0 1]\n",
      "X229 [0 1]\n",
      "X230 [0 1]\n",
      "X231 [0 1]\n",
      "X232 [1 0]\n",
      "X233 [0 1]\n",
      "X234 [0 1]\n",
      "X235 [0 1]\n",
      "X236 [0 1]\n",
      "X237 [0 1]\n",
      "X238 [0 1]\n",
      "X239 [0 1]\n",
      "X240 [0 1]\n",
      "X241 [0 1]\n",
      "X242 [0 1]\n",
      "X243 [0 1]\n",
      "X244 [0 1]\n",
      "X245 [0 1]\n",
      "X246 [1 0]\n",
      "X247 [0 1]\n",
      "X248 [0 1]\n",
      "X249 [0 1]\n",
      "X250 [1 0]\n",
      "X251 [0 1]\n",
      "X252 [0 1]\n",
      "X253 [0 1]\n",
      "X254 [0 1]\n",
      "X255 [0 1]\n",
      "X256 [1 0]\n",
      "X257 [0]\n",
      "X258 [0]\n",
      "X259 [0 1]\n",
      "X260 [0 1]\n",
      "X261 [0 1]\n",
      "X262 [0 1]\n",
      "X263 [0 1]\n",
      "X264 [0 1]\n",
      "X265 [0 1]\n",
      "X266 [0 1]\n",
      "X267 [0 1]\n",
      "X268 [0 1]\n",
      "X269 [0 1]\n",
      "X270 [0 1]\n",
      "X271 [0 1]\n",
      "X272 [1 0]\n",
      "X273 [1 0]\n",
      "X274 [0 1]\n",
      "X275 [0 1]\n",
      "X276 [1 0]\n",
      "X277 [0 1]\n",
      "X278 [0 1]\n",
      "X279 [1 0]\n",
      "X280 [0 1]\n",
      "X281 [0 1]\n",
      "X282 [0 1]\n",
      "X283 [0 1]\n",
      "X284 [0 1]\n",
      "X285 [0 1]\n",
      "X286 [1 0]\n",
      "X287 [0 1]\n",
      "X288 [0 1]\n",
      "X289 [0 1]\n",
      "X290 [0 1]\n",
      "X291 [0 1]\n",
      "X292 [0 1]\n",
      "X293 [0 1]\n",
      "X294 [0 1]\n",
      "X295 [0]\n",
      "X296 [0]\n",
      "X297 [0 1]\n",
      "X298 [0 1]\n",
      "X299 [0 1]\n",
      "X300 [0 1]\n",
      "X301 [0 1]\n",
      "X302 [0 1]\n",
      "X304 [1 0]\n",
      "X305 [0 1]\n",
      "X306 [0 1]\n",
      "X307 [0 1]\n",
      "X308 [0 1]\n",
      "X309 [0 1]\n",
      "X310 [0 1]\n",
      "X311 [0 1]\n",
      "X312 [0 1]\n",
      "X313 [0 1]\n",
      "X314 [0 1]\n",
      "X315 [0 1]\n",
      "X316 [0 1]\n",
      "X317 [0 1]\n",
      "X318 [0 1]\n",
      "X319 [0 1]\n",
      "X320 [0 1]\n",
      "X321 [0 1]\n",
      "X322 [0 1]\n",
      "X323 [0 1]\n",
      "X324 [0 1]\n",
      "X325 [0 1]\n",
      "X326 [0 1]\n",
      "X327 [0 1]\n",
      "X328 [1 0]\n",
      "X329 [0 1]\n",
      "X330 [0 1]\n",
      "X331 [0 1]\n",
      "X332 [0 1]\n",
      "X333 [0 1]\n",
      "X334 [1 0]\n",
      "X335 [0 1]\n",
      "X336 [0 1]\n",
      "X337 [0 1]\n",
      "X338 [0 1]\n",
      "X339 [0 1]\n",
      "X340 [0 1]\n",
      "X341 [0 1]\n",
      "X342 [0 1]\n",
      "X343 [0 1]\n",
      "X344 [0 1]\n",
      "X345 [0 1]\n",
      "X346 [0 1]\n",
      "X347 [0 1]\n",
      "X348 [1 0]\n",
      "X349 [0 1]\n",
      "X350 [1 0]\n",
      "X351 [0 1]\n",
      "X352 [0 1]\n",
      "X353 [0 1]\n",
      "X354 [0 1]\n",
      "X355 [0 1]\n",
      "X356 [0 1]\n",
      "X357 [0 1]\n",
      "X358 [1 0]\n",
      "X359 [0 1]\n",
      "X360 [0 1]\n",
      "X361 [1 0]\n",
      "X362 [0 1]\n",
      "X363 [1 0]\n",
      "X364 [0 1]\n",
      "X365 [0 1]\n",
      "X366 [0 1]\n",
      "X367 [0 1]\n",
      "X368 [0 1]\n",
      "X369 [0]\n",
      "X370 [0 1]\n",
      "X371 [0 1]\n",
      "X372 [0 1]\n",
      "X373 [0 1]\n",
      "X374 [0 1]\n",
      "X375 [0 1]\n",
      "X376 [0 1]\n",
      "X377 [0 1]\n",
      "X378 [1 0]\n",
      "X379 [0 1]\n",
      "X380 [0 1]\n",
      "X382 [0 1]\n",
      "X383 [0 1]\n",
      "X384 [0 1]\n",
      "X385 [0 1]\n"
     ]
    }
   ],
   "source": [
    "for col in train_df:\n",
    "    print(col, train_df[col].unique())\n",
    "for col in test_df:\n",
    "    print(col, test_df[col].unique())"
   ]
  },
  {
   "cell_type": "markdown",
   "id": "ca4eb2e5",
   "metadata": {},
   "source": [
    "#### * From the above we can see that there are unique values in all the categorical columns.\n",
    "#### * Some columns have values as zero only ; they have zero variance."
   ]
  },
  {
   "cell_type": "markdown",
   "id": "201a004f",
   "metadata": {},
   "source": [
    "### Apply Label Encoder."
   ]
  },
  {
   "cell_type": "code",
   "execution_count": 12,
   "id": "4b2f5606",
   "metadata": {},
   "outputs": [],
   "source": [
    "label_encoder = LabelEncoder()"
   ]
  },
  {
   "cell_type": "code",
   "execution_count": 13,
   "id": "6494ae43",
   "metadata": {},
   "outputs": [],
   "source": [
    "columns_to_be_encoded = ['X0','X1','X2','X3','X4','X5','X6','X8']\n",
    "\n",
    "for column in columns_to_be_encoded:\n",
    "    train_df[column] = label_encoder.fit_transform(train_df[column])\n",
    "    test_df[column] = label_encoder.fit_transform(test_df[column])"
   ]
  },
  {
   "cell_type": "code",
   "execution_count": 14,
   "id": "27b43f17",
   "metadata": {},
   "outputs": [
    {
     "data": {
      "text/html": [
       "<div>\n",
       "<style scoped>\n",
       "    .dataframe tbody tr th:only-of-type {\n",
       "        vertical-align: middle;\n",
       "    }\n",
       "\n",
       "    .dataframe tbody tr th {\n",
       "        vertical-align: top;\n",
       "    }\n",
       "\n",
       "    .dataframe thead th {\n",
       "        text-align: right;\n",
       "    }\n",
       "</style>\n",
       "<table border=\"1\" class=\"dataframe\">\n",
       "  <thead>\n",
       "    <tr style=\"text-align: right;\">\n",
       "      <th></th>\n",
       "      <th>ID</th>\n",
       "      <th>y</th>\n",
       "      <th>X0</th>\n",
       "      <th>X1</th>\n",
       "      <th>X2</th>\n",
       "      <th>X3</th>\n",
       "      <th>X4</th>\n",
       "      <th>X5</th>\n",
       "      <th>X6</th>\n",
       "      <th>X8</th>\n",
       "      <th>...</th>\n",
       "      <th>X375</th>\n",
       "      <th>X376</th>\n",
       "      <th>X377</th>\n",
       "      <th>X378</th>\n",
       "      <th>X379</th>\n",
       "      <th>X380</th>\n",
       "      <th>X382</th>\n",
       "      <th>X383</th>\n",
       "      <th>X384</th>\n",
       "      <th>X385</th>\n",
       "    </tr>\n",
       "  </thead>\n",
       "  <tbody>\n",
       "    <tr>\n",
       "      <th>0</th>\n",
       "      <td>0</td>\n",
       "      <td>130.81</td>\n",
       "      <td>32</td>\n",
       "      <td>23</td>\n",
       "      <td>17</td>\n",
       "      <td>0</td>\n",
       "      <td>3</td>\n",
       "      <td>24</td>\n",
       "      <td>9</td>\n",
       "      <td>14</td>\n",
       "      <td>...</td>\n",
       "      <td>0</td>\n",
       "      <td>0</td>\n",
       "      <td>1</td>\n",
       "      <td>0</td>\n",
       "      <td>0</td>\n",
       "      <td>0</td>\n",
       "      <td>0</td>\n",
       "      <td>0</td>\n",
       "      <td>0</td>\n",
       "      <td>0</td>\n",
       "    </tr>\n",
       "    <tr>\n",
       "      <th>1</th>\n",
       "      <td>6</td>\n",
       "      <td>88.53</td>\n",
       "      <td>32</td>\n",
       "      <td>21</td>\n",
       "      <td>19</td>\n",
       "      <td>4</td>\n",
       "      <td>3</td>\n",
       "      <td>28</td>\n",
       "      <td>11</td>\n",
       "      <td>14</td>\n",
       "      <td>...</td>\n",
       "      <td>1</td>\n",
       "      <td>0</td>\n",
       "      <td>0</td>\n",
       "      <td>0</td>\n",
       "      <td>0</td>\n",
       "      <td>0</td>\n",
       "      <td>0</td>\n",
       "      <td>0</td>\n",
       "      <td>0</td>\n",
       "      <td>0</td>\n",
       "    </tr>\n",
       "    <tr>\n",
       "      <th>2</th>\n",
       "      <td>7</td>\n",
       "      <td>76.26</td>\n",
       "      <td>20</td>\n",
       "      <td>24</td>\n",
       "      <td>34</td>\n",
       "      <td>2</td>\n",
       "      <td>3</td>\n",
       "      <td>27</td>\n",
       "      <td>9</td>\n",
       "      <td>23</td>\n",
       "      <td>...</td>\n",
       "      <td>0</td>\n",
       "      <td>0</td>\n",
       "      <td>0</td>\n",
       "      <td>0</td>\n",
       "      <td>0</td>\n",
       "      <td>0</td>\n",
       "      <td>1</td>\n",
       "      <td>0</td>\n",
       "      <td>0</td>\n",
       "      <td>0</td>\n",
       "    </tr>\n",
       "    <tr>\n",
       "      <th>3</th>\n",
       "      <td>9</td>\n",
       "      <td>80.62</td>\n",
       "      <td>20</td>\n",
       "      <td>21</td>\n",
       "      <td>34</td>\n",
       "      <td>5</td>\n",
       "      <td>3</td>\n",
       "      <td>27</td>\n",
       "      <td>11</td>\n",
       "      <td>4</td>\n",
       "      <td>...</td>\n",
       "      <td>0</td>\n",
       "      <td>0</td>\n",
       "      <td>0</td>\n",
       "      <td>0</td>\n",
       "      <td>0</td>\n",
       "      <td>0</td>\n",
       "      <td>0</td>\n",
       "      <td>0</td>\n",
       "      <td>0</td>\n",
       "      <td>0</td>\n",
       "    </tr>\n",
       "    <tr>\n",
       "      <th>4</th>\n",
       "      <td>13</td>\n",
       "      <td>78.02</td>\n",
       "      <td>20</td>\n",
       "      <td>23</td>\n",
       "      <td>34</td>\n",
       "      <td>5</td>\n",
       "      <td>3</td>\n",
       "      <td>12</td>\n",
       "      <td>3</td>\n",
       "      <td>13</td>\n",
       "      <td>...</td>\n",
       "      <td>0</td>\n",
       "      <td>0</td>\n",
       "      <td>0</td>\n",
       "      <td>0</td>\n",
       "      <td>0</td>\n",
       "      <td>0</td>\n",
       "      <td>0</td>\n",
       "      <td>0</td>\n",
       "      <td>0</td>\n",
       "      <td>0</td>\n",
       "    </tr>\n",
       "  </tbody>\n",
       "</table>\n",
       "<p>5 rows × 378 columns</p>\n",
       "</div>"
      ],
      "text/plain": [
       "   ID       y  X0  X1  X2  X3  X4  X5  X6  X8  ...  X375  X376  X377  X378  \\\n",
       "0   0  130.81  32  23  17   0   3  24   9  14  ...     0     0     1     0   \n",
       "1   6   88.53  32  21  19   4   3  28  11  14  ...     1     0     0     0   \n",
       "2   7   76.26  20  24  34   2   3  27   9  23  ...     0     0     0     0   \n",
       "3   9   80.62  20  21  34   5   3  27  11   4  ...     0     0     0     0   \n",
       "4  13   78.02  20  23  34   5   3  12   3  13  ...     0     0     0     0   \n",
       "\n",
       "   X379  X380  X382  X383  X384  X385  \n",
       "0     0     0     0     0     0     0  \n",
       "1     0     0     0     0     0     0  \n",
       "2     0     0     1     0     0     0  \n",
       "3     0     0     0     0     0     0  \n",
       "4     0     0     0     0     0     0  \n",
       "\n",
       "[5 rows x 378 columns]"
      ]
     },
     "execution_count": 14,
     "metadata": {},
     "output_type": "execute_result"
    }
   ],
   "source": [
    "train_df.head()"
   ]
  },
  {
   "cell_type": "markdown",
   "id": "8b2b9469",
   "metadata": {},
   "source": [
    "#### Check if all the features have changed to numerical ones."
   ]
  },
  {
   "cell_type": "code",
   "execution_count": 15,
   "id": "e9bcf200",
   "metadata": {},
   "outputs": [
    {
     "data": {
      "text/plain": [
       "int64      369\n",
       "int32        8\n",
       "float64      1\n",
       "dtype: int64"
      ]
     },
     "execution_count": 15,
     "metadata": {},
     "output_type": "execute_result"
    }
   ],
   "source": [
    "train_df.dtypes.value_counts()"
   ]
  },
  {
   "cell_type": "code",
   "execution_count": 16,
   "id": "645ce1b3",
   "metadata": {},
   "outputs": [
    {
     "data": {
      "text/html": [
       "<div>\n",
       "<style scoped>\n",
       "    .dataframe tbody tr th:only-of-type {\n",
       "        vertical-align: middle;\n",
       "    }\n",
       "\n",
       "    .dataframe tbody tr th {\n",
       "        vertical-align: top;\n",
       "    }\n",
       "\n",
       "    .dataframe thead th {\n",
       "        text-align: right;\n",
       "    }\n",
       "</style>\n",
       "<table border=\"1\" class=\"dataframe\">\n",
       "  <thead>\n",
       "    <tr style=\"text-align: right;\">\n",
       "      <th></th>\n",
       "      <th>ID</th>\n",
       "      <th>X0</th>\n",
       "      <th>X1</th>\n",
       "      <th>X2</th>\n",
       "      <th>X3</th>\n",
       "      <th>X4</th>\n",
       "      <th>X5</th>\n",
       "      <th>X6</th>\n",
       "      <th>X8</th>\n",
       "      <th>X10</th>\n",
       "      <th>...</th>\n",
       "      <th>X375</th>\n",
       "      <th>X376</th>\n",
       "      <th>X377</th>\n",
       "      <th>X378</th>\n",
       "      <th>X379</th>\n",
       "      <th>X380</th>\n",
       "      <th>X382</th>\n",
       "      <th>X383</th>\n",
       "      <th>X384</th>\n",
       "      <th>X385</th>\n",
       "    </tr>\n",
       "  </thead>\n",
       "  <tbody>\n",
       "    <tr>\n",
       "      <th>0</th>\n",
       "      <td>1</td>\n",
       "      <td>21</td>\n",
       "      <td>23</td>\n",
       "      <td>34</td>\n",
       "      <td>5</td>\n",
       "      <td>3</td>\n",
       "      <td>26</td>\n",
       "      <td>0</td>\n",
       "      <td>22</td>\n",
       "      <td>0</td>\n",
       "      <td>...</td>\n",
       "      <td>0</td>\n",
       "      <td>0</td>\n",
       "      <td>0</td>\n",
       "      <td>1</td>\n",
       "      <td>0</td>\n",
       "      <td>0</td>\n",
       "      <td>0</td>\n",
       "      <td>0</td>\n",
       "      <td>0</td>\n",
       "      <td>0</td>\n",
       "    </tr>\n",
       "    <tr>\n",
       "      <th>1</th>\n",
       "      <td>2</td>\n",
       "      <td>42</td>\n",
       "      <td>3</td>\n",
       "      <td>8</td>\n",
       "      <td>0</td>\n",
       "      <td>3</td>\n",
       "      <td>9</td>\n",
       "      <td>6</td>\n",
       "      <td>24</td>\n",
       "      <td>0</td>\n",
       "      <td>...</td>\n",
       "      <td>0</td>\n",
       "      <td>0</td>\n",
       "      <td>1</td>\n",
       "      <td>0</td>\n",
       "      <td>0</td>\n",
       "      <td>0</td>\n",
       "      <td>0</td>\n",
       "      <td>0</td>\n",
       "      <td>0</td>\n",
       "      <td>0</td>\n",
       "    </tr>\n",
       "    <tr>\n",
       "      <th>2</th>\n",
       "      <td>3</td>\n",
       "      <td>21</td>\n",
       "      <td>23</td>\n",
       "      <td>17</td>\n",
       "      <td>5</td>\n",
       "      <td>3</td>\n",
       "      <td>0</td>\n",
       "      <td>9</td>\n",
       "      <td>9</td>\n",
       "      <td>0</td>\n",
       "      <td>...</td>\n",
       "      <td>0</td>\n",
       "      <td>0</td>\n",
       "      <td>0</td>\n",
       "      <td>1</td>\n",
       "      <td>0</td>\n",
       "      <td>0</td>\n",
       "      <td>0</td>\n",
       "      <td>0</td>\n",
       "      <td>0</td>\n",
       "      <td>0</td>\n",
       "    </tr>\n",
       "    <tr>\n",
       "      <th>3</th>\n",
       "      <td>4</td>\n",
       "      <td>21</td>\n",
       "      <td>13</td>\n",
       "      <td>34</td>\n",
       "      <td>5</td>\n",
       "      <td>3</td>\n",
       "      <td>31</td>\n",
       "      <td>11</td>\n",
       "      <td>13</td>\n",
       "      <td>0</td>\n",
       "      <td>...</td>\n",
       "      <td>0</td>\n",
       "      <td>0</td>\n",
       "      <td>0</td>\n",
       "      <td>1</td>\n",
       "      <td>0</td>\n",
       "      <td>0</td>\n",
       "      <td>0</td>\n",
       "      <td>0</td>\n",
       "      <td>0</td>\n",
       "      <td>0</td>\n",
       "    </tr>\n",
       "    <tr>\n",
       "      <th>4</th>\n",
       "      <td>5</td>\n",
       "      <td>45</td>\n",
       "      <td>20</td>\n",
       "      <td>17</td>\n",
       "      <td>2</td>\n",
       "      <td>3</td>\n",
       "      <td>30</td>\n",
       "      <td>8</td>\n",
       "      <td>12</td>\n",
       "      <td>0</td>\n",
       "      <td>...</td>\n",
       "      <td>1</td>\n",
       "      <td>0</td>\n",
       "      <td>0</td>\n",
       "      <td>0</td>\n",
       "      <td>0</td>\n",
       "      <td>0</td>\n",
       "      <td>0</td>\n",
       "      <td>0</td>\n",
       "      <td>0</td>\n",
       "      <td>0</td>\n",
       "    </tr>\n",
       "  </tbody>\n",
       "</table>\n",
       "<p>5 rows × 377 columns</p>\n",
       "</div>"
      ],
      "text/plain": [
       "   ID  X0  X1  X2  X3  X4  X5  X6  X8  X10  ...  X375  X376  X377  X378  X379  \\\n",
       "0   1  21  23  34   5   3  26   0  22    0  ...     0     0     0     1     0   \n",
       "1   2  42   3   8   0   3   9   6  24    0  ...     0     0     1     0     0   \n",
       "2   3  21  23  17   5   3   0   9   9    0  ...     0     0     0     1     0   \n",
       "3   4  21  13  34   5   3  31  11  13    0  ...     0     0     0     1     0   \n",
       "4   5  45  20  17   2   3  30   8  12    0  ...     1     0     0     0     0   \n",
       "\n",
       "   X380  X382  X383  X384  X385  \n",
       "0     0     0     0     0     0  \n",
       "1     0     0     0     0     0  \n",
       "2     0     0     0     0     0  \n",
       "3     0     0     0     0     0  \n",
       "4     0     0     0     0     0  \n",
       "\n",
       "[5 rows x 377 columns]"
      ]
     },
     "execution_count": 16,
     "metadata": {},
     "output_type": "execute_result"
    }
   ],
   "source": [
    "test_df.head()"
   ]
  },
  {
   "cell_type": "code",
   "execution_count": 17,
   "id": "c62788b2",
   "metadata": {},
   "outputs": [
    {
     "data": {
      "text/plain": [
       "int64    369\n",
       "int32      8\n",
       "dtype: int64"
      ]
     },
     "execution_count": 17,
     "metadata": {},
     "output_type": "execute_result"
    }
   ],
   "source": [
    "test_df.dtypes.value_counts()"
   ]
  },
  {
   "cell_type": "markdown",
   "id": "6e751c3d",
   "metadata": {},
   "source": [
    "#### Identify features with 0 variance."
   ]
  },
  {
   "cell_type": "code",
   "execution_count": 18,
   "id": "1a5bb7d7",
   "metadata": {},
   "outputs": [
    {
     "name": "stdout",
     "output_type": "stream",
     "text": [
      "No. of features in train data that has zero variance:  12\n",
      "List of features in train data that has zero variance:  ['X11', 'X93', 'X107', 'X233', 'X235', 'X268', 'X289', 'X290', 'X293', 'X297', 'X330', 'X347']\n"
     ]
    }
   ],
   "source": [
    "Zero_Var_cols = []\n",
    "for col in train_df.columns:\n",
    "    if train_df[col].var()==0:\n",
    "        Zero_Var_cols.append(col)\n",
    "        \n",
    "print('No. of features in train data that has zero variance: ',len(Zero_Var_cols))\n",
    "print('List of features in train data that has zero variance: ',Zero_Var_cols)"
   ]
  },
  {
   "cell_type": "code",
   "execution_count": 19,
   "id": "6f8a38fa",
   "metadata": {},
   "outputs": [
    {
     "data": {
      "text/plain": [
       "<AxesSubplot:xlabel='X8', ylabel='y'>"
      ]
     },
     "execution_count": 19,
     "metadata": {},
     "output_type": "execute_result"
    },
    {
     "data": {
      "image/png": "[encoded data removed]",
      "text/plain": [
       "<Figure size 1008x360 with 8 Axes>"
      ]
     },
     "metadata": {
      "needs_background": "light"
     },
     "output_type": "display_data"
    }
   ],
   "source": [
    "fig,axs = plt.subplots(1,8,sharey = True)\n",
    "train_df.plot(kind='scatter', x='X0',y='y',ax=axs[0],figsize=(14,5))\n",
    "train_df.plot(kind='scatter', x='X1',y='y',ax=axs[1])\n",
    "train_df.plot(kind='scatter', x='X2',y='y',ax=axs[2])\n",
    "train_df.plot(kind='scatter', x='X3',y='y',ax=axs[3])\n",
    "train_df.plot(kind='scatter', x='X4',y='y',ax=axs[4])\n",
    "train_df.plot(kind='scatter', x='X5',y='y',ax=axs[5])\n",
    "train_df.plot(kind='scatter', x='X6',y='y',ax=axs[6])\n",
    "train_df.plot(kind='scatter', x='X8',y='y',ax=axs[7])"
   ]
  },
  {
   "cell_type": "markdown",
   "id": "35ecf404",
   "metadata": {},
   "source": [
    "* From the above plots we can see that the X4 feature is also having very low variance, hence this feature can also be removed."
   ]
  },
  {
   "cell_type": "markdown",
   "id": "34c1ba1b",
   "metadata": {},
   "source": [
    "#### Remove the features with zero & very low variance from the dataset."
   ]
  },
  {
   "cell_type": "code",
   "execution_count": 20,
   "id": "be419364",
   "metadata": {},
   "outputs": [],
   "source": [
    "train_df.drop(['X4','X11', 'X93', 'X107', 'X233', 'X235', 'X268', 'X289', 'X290', 'X293', 'X297', 'X330', 'X347'], axis =1, inplace=True)"
   ]
  },
  {
   "cell_type": "markdown",
   "id": "0a7351ee",
   "metadata": {},
   "source": [
    "#### Remove the same columns from test dataset.\n"
   ]
  },
  {
   "cell_type": "code",
   "execution_count": 21,
   "id": "2f76c672",
   "metadata": {},
   "outputs": [],
   "source": [
    "test_df.drop(['X4','X11', 'X93', 'X107', 'X233', 'X235', 'X268', 'X289', 'X290', 'X293', 'X297', 'X330', 'X347'], axis =1, inplace=True)"
   ]
  },
  {
   "cell_type": "code",
   "execution_count": 22,
   "id": "ef924a89",
   "metadata": {},
   "outputs": [
    {
     "data": {
      "text/plain": [
       "(4209, 365)"
      ]
     },
     "execution_count": 22,
     "metadata": {},
     "output_type": "execute_result"
    }
   ],
   "source": [
    "train_df.shape"
   ]
  },
  {
   "cell_type": "code",
   "execution_count": 23,
   "id": "a0c8a764",
   "metadata": {},
   "outputs": [
    {
     "data": {
      "text/plain": [
       "(4209, 364)"
      ]
     },
     "execution_count": 23,
     "metadata": {},
     "output_type": "execute_result"
    }
   ],
   "source": [
    "test_df.shape"
   ]
  },
  {
   "cell_type": "markdown",
   "id": "a88d78d6",
   "metadata": {},
   "source": [
    "#### * There are 12 features with zero variance & 1 feature with very low variance and they have been removed from the train & test datasets."
   ]
  },
  {
   "cell_type": "markdown",
   "id": "7af15ce7",
   "metadata": {},
   "source": [
    "### Check for any outliers by visualization.\n"
   ]
  },
  {
   "cell_type": "code",
   "execution_count": 24,
   "id": "6b459872",
   "metadata": {},
   "outputs": [
    {
     "data": {
      "image/png": "[encoded data removed]",
      "text/plain": [
       "<Figure size 1800x720 with 1 Axes>"
      ]
     },
     "metadata": {
      "needs_background": "light"
     },
     "output_type": "display_data"
    }
   ],
   "source": [
    "plt.figure(figsize=(25,10))\n",
    "sns.boxplot(x='y', data=train_df, color='crimson')\n",
    "plt.show()"
   ]
  },
  {
   "cell_type": "code",
   "execution_count": 25,
   "id": "9f75ff6d",
   "metadata": {},
   "outputs": [
    {
     "data": {
      "image/png": "[encoded data removed]",
      "text/plain": [
       "<Figure size 720x360 with 1 Axes>"
      ]
     },
     "metadata": {
      "needs_background": "light"
     },
     "output_type": "display_data"
    }
   ],
   "source": [
    "plt.figure(figsize=(10,5))\n",
    "sns.scatterplot(x= train_df['ID'], y=train_df['y'], color='darkblue')\n",
    "plt.show()"
   ]
  },
  {
   "cell_type": "markdown",
   "id": "39946d9a",
   "metadata": {},
   "source": [
    "#### *It can be seen that there are some outliers in the data that needs to be handled."
   ]
  },
  {
   "cell_type": "markdown",
   "id": "6dad16db",
   "metadata": {},
   "source": [
    "#### Using percentile method to detect and remove the outliers."
   ]
  },
  {
   "cell_type": "code",
   "execution_count": 26,
   "id": "95253adb",
   "metadata": {},
   "outputs": [
    {
     "data": {
      "text/plain": [
       "160.38328000000087"
      ]
     },
     "execution_count": 26,
     "metadata": {},
     "output_type": "execute_result"
    }
   ],
   "source": [
    "max_threshold = train_df['y'].quantile(0.999)\n",
    "max_threshold"
   ]
  },
  {
   "cell_type": "code",
   "execution_count": 27,
   "id": "3ec87785",
   "metadata": {},
   "outputs": [
    {
     "data": {
      "text/html": [
       "<div>\n",
       "<style scoped>\n",
       "    .dataframe tbody tr th:only-of-type {\n",
       "        vertical-align: middle;\n",
       "    }\n",
       "\n",
       "    .dataframe tbody tr th {\n",
       "        vertical-align: top;\n",
       "    }\n",
       "\n",
       "    .dataframe thead th {\n",
       "        text-align: right;\n",
       "    }\n",
       "</style>\n",
       "<table border=\"1\" class=\"dataframe\">\n",
       "  <thead>\n",
       "    <tr style=\"text-align: right;\">\n",
       "      <th></th>\n",
       "      <th>ID</th>\n",
       "      <th>y</th>\n",
       "      <th>X0</th>\n",
       "      <th>X1</th>\n",
       "      <th>X2</th>\n",
       "      <th>X3</th>\n",
       "      <th>X5</th>\n",
       "      <th>X6</th>\n",
       "      <th>X8</th>\n",
       "      <th>X10</th>\n",
       "      <th>...</th>\n",
       "      <th>X375</th>\n",
       "      <th>X376</th>\n",
       "      <th>X377</th>\n",
       "      <th>X378</th>\n",
       "      <th>X379</th>\n",
       "      <th>X380</th>\n",
       "      <th>X382</th>\n",
       "      <th>X383</th>\n",
       "      <th>X384</th>\n",
       "      <th>X385</th>\n",
       "    </tr>\n",
       "  </thead>\n",
       "  <tbody>\n",
       "    <tr>\n",
       "      <th>342</th>\n",
       "      <td>681</td>\n",
       "      <td>169.91</td>\n",
       "      <td>1</td>\n",
       "      <td>13</td>\n",
       "      <td>8</td>\n",
       "      <td>5</td>\n",
       "      <td>13</td>\n",
       "      <td>2</td>\n",
       "      <td>3</td>\n",
       "      <td>0</td>\n",
       "      <td>...</td>\n",
       "      <td>0</td>\n",
       "      <td>0</td>\n",
       "      <td>0</td>\n",
       "      <td>0</td>\n",
       "      <td>0</td>\n",
       "      <td>0</td>\n",
       "      <td>0</td>\n",
       "      <td>0</td>\n",
       "      <td>0</td>\n",
       "      <td>0</td>\n",
       "    </tr>\n",
       "    <tr>\n",
       "      <th>883</th>\n",
       "      <td>1770</td>\n",
       "      <td>265.32</td>\n",
       "      <td>45</td>\n",
       "      <td>19</td>\n",
       "      <td>7</td>\n",
       "      <td>5</td>\n",
       "      <td>6</td>\n",
       "      <td>11</td>\n",
       "      <td>19</td>\n",
       "      <td>0</td>\n",
       "      <td>...</td>\n",
       "      <td>0</td>\n",
       "      <td>0</td>\n",
       "      <td>0</td>\n",
       "      <td>0</td>\n",
       "      <td>0</td>\n",
       "      <td>0</td>\n",
       "      <td>0</td>\n",
       "      <td>0</td>\n",
       "      <td>0</td>\n",
       "      <td>0</td>\n",
       "    </tr>\n",
       "    <tr>\n",
       "      <th>1203</th>\n",
       "      <td>2396</td>\n",
       "      <td>160.87</td>\n",
       "      <td>31</td>\n",
       "      <td>16</td>\n",
       "      <td>16</td>\n",
       "      <td>5</td>\n",
       "      <td>1</td>\n",
       "      <td>6</td>\n",
       "      <td>15</td>\n",
       "      <td>0</td>\n",
       "      <td>...</td>\n",
       "      <td>1</td>\n",
       "      <td>0</td>\n",
       "      <td>0</td>\n",
       "      <td>0</td>\n",
       "      <td>0</td>\n",
       "      <td>0</td>\n",
       "      <td>0</td>\n",
       "      <td>0</td>\n",
       "      <td>0</td>\n",
       "      <td>0</td>\n",
       "    </tr>\n",
       "    <tr>\n",
       "      <th>1459</th>\n",
       "      <td>2903</td>\n",
       "      <td>167.45</td>\n",
       "      <td>6</td>\n",
       "      <td>3</td>\n",
       "      <td>3</td>\n",
       "      <td>0</td>\n",
       "      <td>2</td>\n",
       "      <td>6</td>\n",
       "      <td>12</td>\n",
       "      <td>0</td>\n",
       "      <td>...</td>\n",
       "      <td>0</td>\n",
       "      <td>0</td>\n",
       "      <td>1</td>\n",
       "      <td>0</td>\n",
       "      <td>0</td>\n",
       "      <td>0</td>\n",
       "      <td>0</td>\n",
       "      <td>0</td>\n",
       "      <td>0</td>\n",
       "      <td>0</td>\n",
       "    </tr>\n",
       "    <tr>\n",
       "      <th>3133</th>\n",
       "      <td>6273</td>\n",
       "      <td>165.52</td>\n",
       "      <td>7</td>\n",
       "      <td>23</td>\n",
       "      <td>38</td>\n",
       "      <td>2</td>\n",
       "      <td>21</td>\n",
       "      <td>6</td>\n",
       "      <td>0</td>\n",
       "      <td>0</td>\n",
       "      <td>...</td>\n",
       "      <td>0</td>\n",
       "      <td>0</td>\n",
       "      <td>1</td>\n",
       "      <td>0</td>\n",
       "      <td>0</td>\n",
       "      <td>0</td>\n",
       "      <td>0</td>\n",
       "      <td>0</td>\n",
       "      <td>0</td>\n",
       "      <td>0</td>\n",
       "    </tr>\n",
       "  </tbody>\n",
       "</table>\n",
       "<p>5 rows × 365 columns</p>\n",
       "</div>"
      ],
      "text/plain": [
       "        ID       y  X0  X1  X2  X3  X5  X6  X8  X10  ...  X375  X376  X377  \\\n",
       "342    681  169.91   1  13   8   5  13   2   3    0  ...     0     0     0   \n",
       "883   1770  265.32  45  19   7   5   6  11  19    0  ...     0     0     0   \n",
       "1203  2396  160.87  31  16  16   5   1   6  15    0  ...     1     0     0   \n",
       "1459  2903  167.45   6   3   3   0   2   6  12    0  ...     0     0     1   \n",
       "3133  6273  165.52   7  23  38   2  21   6   0    0  ...     0     0     1   \n",
       "\n",
       "      X378  X379  X380  X382  X383  X384  X385  \n",
       "342      0     0     0     0     0     0     0  \n",
       "883      0     0     0     0     0     0     0  \n",
       "1203     0     0     0     0     0     0     0  \n",
       "1459     0     0     0     0     0     0     0  \n",
       "3133     0     0     0     0     0     0     0  \n",
       "\n",
       "[5 rows x 365 columns]"
      ]
     },
     "execution_count": 27,
     "metadata": {},
     "output_type": "execute_result"
    }
   ],
   "source": [
    "outliers = train_df[train_df['y']>max_threshold]\n",
    "outliers"
   ]
  },
  {
   "cell_type": "code",
   "execution_count": 28,
   "id": "74aa07e6",
   "metadata": {},
   "outputs": [
    {
     "data": {
      "text/plain": [
       "Int64Index([342, 883, 1203, 1459, 3133], dtype='int64')"
      ]
     },
     "execution_count": 28,
     "metadata": {},
     "output_type": "execute_result"
    }
   ],
   "source": [
    "outliers.index"
   ]
  },
  {
   "cell_type": "code",
   "execution_count": 29,
   "id": "381795d6",
   "metadata": {},
   "outputs": [],
   "source": [
    "train_df.drop(index=outliers.index, inplace=True)"
   ]
  },
  {
   "cell_type": "code",
   "execution_count": 30,
   "id": "421518d1",
   "metadata": {},
   "outputs": [
    {
     "data": {
      "text/plain": [
       "(4204, 365)"
      ]
     },
     "execution_count": 30,
     "metadata": {},
     "output_type": "execute_result"
    }
   ],
   "source": [
    "train_df.shape"
   ]
  },
  {
   "cell_type": "markdown",
   "id": "16b4e3bb",
   "metadata": {},
   "source": [
    "#### * Outliers have been removed."
   ]
  },
  {
   "cell_type": "markdown",
   "id": "563994aa",
   "metadata": {},
   "source": [
    "#### Drop 'ID' from bot the datasets as it is not required for analysis."
   ]
  },
  {
   "cell_type": "code",
   "execution_count": 31,
   "id": "6deefde6",
   "metadata": {},
   "outputs": [],
   "source": [
    "train = train_df.drop(['y','ID',], axis = 1)\n",
    "test = test_df.drop(['ID'], axis = 1)"
   ]
  },
  {
   "cell_type": "markdown",
   "id": "482e8960",
   "metadata": {},
   "source": [
    "### Perform dimensionality reduction using PCA"
   ]
  },
  {
   "cell_type": "code",
   "execution_count": 32,
   "id": "221289fb",
   "metadata": {},
   "outputs": [],
   "source": [
    "pca = PCA(n_components=10, random_state=21)\n",
    "train_pca = pca.fit_transform(train)\n",
    "test_pca = pca.transform(test)"
   ]
  },
  {
   "cell_type": "code",
   "execution_count": 33,
   "id": "da4861db",
   "metadata": {},
   "outputs": [
    {
     "name": "stdout",
     "output_type": "stream",
     "text": [
      "(4204, 10)\n",
      "(4209, 10)\n"
     ]
    }
   ],
   "source": [
    "print(train_pca.shape)\n",
    "print(test_pca.shape)"
   ]
  },
  {
   "cell_type": "code",
   "execution_count": 34,
   "id": "1466d1f3",
   "metadata": {},
   "outputs": [
    {
     "data": {
      "text/plain": [
       "array([0.38314616, 0.21388272, 0.13266609, 0.11832022, 0.09213316,\n",
       "       0.01591696, 0.00744662, 0.00433802, 0.0029445 , 0.00241956])"
      ]
     },
     "execution_count": 34,
     "metadata": {},
     "output_type": "execute_result"
    }
   ],
   "source": [
    "pca.explained_variance_ratio_"
   ]
  },
  {
   "cell_type": "markdown",
   "id": "9c0f6a22",
   "metadata": {},
   "source": [
    "#### Splitting the dataset to X & y"
   ]
  },
  {
   "cell_type": "code",
   "execution_count": 35,
   "id": "2166d75e",
   "metadata": {},
   "outputs": [],
   "source": [
    "x_train = train_pca\n",
    "y_train = train_df['y']"
   ]
  },
  {
   "cell_type": "markdown",
   "id": "ed22c2b6",
   "metadata": {},
   "source": [
    "#### Splitting the train dataset into train & validation dataset"
   ]
  },
  {
   "cell_type": "code",
   "execution_count": 36,
   "id": "632a0d10",
   "metadata": {},
   "outputs": [],
   "source": [
    "X_train, X_valid, y_train, y_valid = train_test_split(x_train, y_train, test_size = 0.2, random_state = 121)"
   ]
  },
  {
   "cell_type": "code",
   "execution_count": 37,
   "id": "561e0c07",
   "metadata": {},
   "outputs": [
    {
     "name": "stdout",
     "output_type": "stream",
     "text": [
      "Shape of X_train is :  (3363, 10)\n",
      "Shape of X_valid is :  (841, 10)\n",
      "Shape of y_train is :  (3363,)\n",
      "Shape of y_valid is :  (841,)\n"
     ]
    }
   ],
   "source": [
    "print(\"Shape of X_train is : \",X_train.shape)\n",
    "print(\"Shape of X_valid is : \",X_valid.shape)\n",
    "print(\"Shape of y_train is : \",y_train.shape)\n",
    "print(\"Shape of y_valid is : \",y_valid.shape)"
   ]
  },
  {
   "cell_type": "code",
   "execution_count": 38,
   "id": "d7e5c79c",
   "metadata": {},
   "outputs": [
    {
     "name": "stdout",
     "output_type": "stream",
     "text": [
      "Defaulting to user installation because normal site-packages is not writeable\n",
      "Requirement already satisfied: xgboost in c:\\users\\hai\\appdata\\roaming\\python\\python39\\site-packages (1.6.2)\n",
      "Requirement already satisfied: scipy in c:\\programdata\\anaconda3\\lib\\site-packages (from xgboost) (1.7.3)\n",
      "Requirement already satisfied: numpy in c:\\programdata\\anaconda3\\lib\\site-packages (from xgboost) (1.21.5)\n"
     ]
    }
   ],
   "source": [
    "!pip install xgboost"
   ]
  },
  {
   "cell_type": "markdown",
   "id": "fa2d95c3",
   "metadata": {},
   "source": [
    "#### Import Xgboost library for modelling"
   ]
  },
  {
   "cell_type": "code",
   "execution_count": 39,
   "id": "644354b3",
   "metadata": {},
   "outputs": [
    {
     "data": {
      "text/html": [
       "<style>#sk-container-id-1 {color: black;background-color: white;}#sk-container-id-1 pre{padding: 0;}#sk-container-id-1 div.sk-toggleable {background-color: white;}#sk-container-id-1 label.sk-toggleable__label {cursor: pointer;display: block;width: 100%;margin-bottom: 0;padding: 0.3em;box-sizing: border-box;text-align: center;}#sk-container-id-1 label.sk-toggleable__label-arrow:before {content: \"▸\";float: left;margin-right: 0.25em;color: #696969;}#sk-container-id-1 label.sk-toggleable__label-arrow:hover:before {color: black;}#sk-container-id-1 div.sk-estimator:hover label.sk-toggleable__label-arrow:before {color: black;}#sk-container-id-1 div.sk-toggleable__content {max-height: 0;max-width: 0;overflow: hidden;text-align: left;background-color: #f0f8ff;}#sk-container-id-1 div.sk-toggleable__content pre {margin: 0.2em;color: black;border-radius: 0.25em;background-color: #f0f8ff;}#sk-container-id-1 input.sk-toggleable__control:checked~div.sk-toggleable__content {max-height: 200px;max-width: 100%;overflow: auto;}#sk-container-id-1 input.sk-toggleable__control:checked~label.sk-toggleable__label-arrow:before {content: \"▾\";}#sk-container-id-1 div.sk-estimator input.sk-toggleable__control:checked~label.sk-toggleable__label {background-color: #d4ebff;}#sk-container-id-1 div.sk-label input.sk-toggleable__control:checked~label.sk-toggleable__label {background-color: #d4ebff;}#sk-container-id-1 input.sk-hidden--visually {border: 0;clip: rect(1px 1px 1px 1px);clip: rect(1px, 1px, 1px, 1px);height: 1px;margin: -1px;overflow: hidden;padding: 0;position: absolute;width: 1px;}#sk-container-id-1 div.sk-estimator {font-family: monospace;background-color: #f0f8ff;border: 1px dotted black;border-radius: 0.25em;box-sizing: border-box;margin-bottom: 0.5em;}#sk-container-id-1 div.sk-estimator:hover {background-color: #d4ebff;}#sk-container-id-1 div.sk-parallel-item::after {content: \"\";width: 100%;border-bottom: 1px solid gray;flex-grow: 1;}#sk-container-id-1 div.sk-label:hover label.sk-toggleable__label {background-color: #d4ebff;}#sk-container-id-1 div.sk-serial::before {content: \"\";position: absolute;border-left: 1px solid gray;box-sizing: border-box;top: 0;bottom: 0;left: 50%;z-index: 0;}#sk-container-id-1 div.sk-serial {display: flex;flex-direction: column;align-items: center;background-color: white;padding-right: 0.2em;padding-left: 0.2em;position: relative;}#sk-container-id-1 div.sk-item {position: relative;z-index: 1;}#sk-container-id-1 div.sk-parallel {display: flex;align-items: stretch;justify-content: center;background-color: white;position: relative;}#sk-container-id-1 div.sk-item::before, #sk-container-id-1 div.sk-parallel-item::before {content: \"\";position: absolute;border-left: 1px solid gray;box-sizing: border-box;top: 0;bottom: 0;left: 50%;z-index: -1;}#sk-container-id-1 div.sk-parallel-item {display: flex;flex-direction: column;z-index: 1;position: relative;background-color: white;}#sk-container-id-1 div.sk-parallel-item:first-child::after {align-self: flex-end;width: 50%;}#sk-container-id-1 div.sk-parallel-item:last-child::after {align-self: flex-start;width: 50%;}#sk-container-id-1 div.sk-parallel-item:only-child::after {width: 0;}#sk-container-id-1 div.sk-dashed-wrapped {border: 1px dashed gray;margin: 0 0.4em 0.5em 0.4em;box-sizing: border-box;padding-bottom: 0.4em;background-color: white;}#sk-container-id-1 div.sk-label label {font-family: monospace;font-weight: bold;display: inline-block;line-height: 1.2em;}#sk-container-id-1 div.sk-label-container {text-align: center;}#sk-container-id-1 div.sk-container {/* jupyter's `normalize.less` sets `[hidden] { display: none; }` but bootstrap.min.css set `[hidden] { display: none !important; }` so we also need the `!important` here to be able to override the default hidden behavior on the sphinx rendered scikit-learn.org. See: https://github.com/scikit-learn/scikit-learn/issues/21755 */display: inline-block !important;position: relative;}#sk-container-id-1 div.sk-text-repr-fallback {display: none;}</style><div id=\"sk-container-id-1\" class=\"sk-top-container\"><div class=\"sk-text-repr-fallback\"><pre>XGBRegressor(base_score=None, booster=&#x27;gbtree&#x27;, callbacks=None,\n",
       "             colsample_bylevel=None, colsample_bynode=None,\n",
       "             colsample_bytree=None, early_stopping_rounds=None,\n",
       "             enable_categorical=False, eta=0.2, eval_metric=None, gamma=3,\n",
       "             gpu_id=None, grow_policy=None, importance_type=None,\n",
       "             interaction_constraints=None, learning_rate=None, max_bin=None,\n",
       "             max_cat_to_onehot=None, max_delta_step=None, max_depth=5,\n",
       "             max_leaves=None, min_child_weight=5, missing=nan,\n",
       "             monotone_constraints=None, n_estimators=100, n_jobs=None,\n",
       "             num_parallel_tree=None, predictor=None, random_state=None,\n",
       "             reg_alpha=None, ...)</pre><b>In a Jupyter environment, please rerun this cell to show the HTML representation or trust the notebook. <br />On GitHub, the HTML representation is unable to render, please try loading this page with nbviewer.org.</b></div><div class=\"sk-container\" hidden><div class=\"sk-item\"><div class=\"sk-estimator sk-toggleable\"><input class=\"sk-toggleable__control sk-hidden--visually\" id=\"sk-estimator-id-1\" type=\"checkbox\" checked><label for=\"sk-estimator-id-1\" class=\"sk-toggleable__label sk-toggleable__label-arrow\">XGBRegressor</label><div class=\"sk-toggleable__content\"><pre>XGBRegressor(base_score=None, booster=&#x27;gbtree&#x27;, callbacks=None,\n",
       "             colsample_bylevel=None, colsample_bynode=None,\n",
       "             colsample_bytree=None, early_stopping_rounds=None,\n",
       "             enable_categorical=False, eta=0.2, eval_metric=None, gamma=3,\n",
       "             gpu_id=None, grow_policy=None, importance_type=None,\n",
       "             interaction_constraints=None, learning_rate=None, max_bin=None,\n",
       "             max_cat_to_onehot=None, max_delta_step=None, max_depth=5,\n",
       "             max_leaves=None, min_child_weight=5, missing=nan,\n",
       "             monotone_constraints=None, n_estimators=100, n_jobs=None,\n",
       "             num_parallel_tree=None, predictor=None, random_state=None,\n",
       "             reg_alpha=None, ...)</pre></div></div></div></div></div>"
      ],
      "text/plain": [
       "XGBRegressor(base_score=None, booster='gbtree', callbacks=None,\n",
       "             colsample_bylevel=None, colsample_bynode=None,\n",
       "             colsample_bytree=None, early_stopping_rounds=None,\n",
       "             enable_categorical=False, eta=0.2, eval_metric=None, gamma=3,\n",
       "             gpu_id=None, grow_policy=None, importance_type=None,\n",
       "             interaction_constraints=None, learning_rate=None, max_bin=None,\n",
       "             max_cat_to_onehot=None, max_delta_step=None, max_depth=5,\n",
       "             max_leaves=None, min_child_weight=5, missing=nan,\n",
       "             monotone_constraints=None, n_estimators=100, n_jobs=None,\n",
       "             num_parallel_tree=None, predictor=None, random_state=None,\n",
       "             reg_alpha=None, ...)"
      ]
     },
     "execution_count": 39,
     "metadata": {},
     "output_type": "execute_result"
    }
   ],
   "source": [
    "import xgboost as xgb\n",
    "\n",
    "xgbr = xgb.XGBRegressor(booster = 'gbtree', gamma=3, min_child_weight = 5, max_depth = 5, eta=0.2)\n",
    "xgbr"
   ]
  },
  {
   "cell_type": "code",
   "execution_count": 40,
   "id": "8ac385b7",
   "metadata": {},
   "outputs": [
    {
     "data": {
      "text/html": [
       "<style>#sk-container-id-2 {color: black;background-color: white;}#sk-container-id-2 pre{padding: 0;}#sk-container-id-2 div.sk-toggleable {background-color: white;}#sk-container-id-2 label.sk-toggleable__label {cursor: pointer;display: block;width: 100%;margin-bottom: 0;padding: 0.3em;box-sizing: border-box;text-align: center;}#sk-container-id-2 label.sk-toggleable__label-arrow:before {content: \"▸\";float: left;margin-right: 0.25em;color: #696969;}#sk-container-id-2 label.sk-toggleable__label-arrow:hover:before {color: black;}#sk-container-id-2 div.sk-estimator:hover label.sk-toggleable__label-arrow:before {color: black;}#sk-container-id-2 div.sk-toggleable__content {max-height: 0;max-width: 0;overflow: hidden;text-align: left;background-color: #f0f8ff;}#sk-container-id-2 div.sk-toggleable__content pre {margin: 0.2em;color: black;border-radius: 0.25em;background-color: #f0f8ff;}#sk-container-id-2 input.sk-toggleable__control:checked~div.sk-toggleable__content {max-height: 200px;max-width: 100%;overflow: auto;}#sk-container-id-2 input.sk-toggleable__control:checked~label.sk-toggleable__label-arrow:before {content: \"▾\";}#sk-container-id-2 div.sk-estimator input.sk-toggleable__control:checked~label.sk-toggleable__label {background-color: #d4ebff;}#sk-container-id-2 div.sk-label input.sk-toggleable__control:checked~label.sk-toggleable__label {background-color: #d4ebff;}#sk-container-id-2 input.sk-hidden--visually {border: 0;clip: rect(1px 1px 1px 1px);clip: rect(1px, 1px, 1px, 1px);height: 1px;margin: -1px;overflow: hidden;padding: 0;position: absolute;width: 1px;}#sk-container-id-2 div.sk-estimator {font-family: monospace;background-color: #f0f8ff;border: 1px dotted black;border-radius: 0.25em;box-sizing: border-box;margin-bottom: 0.5em;}#sk-container-id-2 div.sk-estimator:hover {background-color: #d4ebff;}#sk-container-id-2 div.sk-parallel-item::after {content: \"\";width: 100%;border-bottom: 1px solid gray;flex-grow: 1;}#sk-container-id-2 div.sk-label:hover label.sk-toggleable__label {background-color: #d4ebff;}#sk-container-id-2 div.sk-serial::before {content: \"\";position: absolute;border-left: 1px solid gray;box-sizing: border-box;top: 0;bottom: 0;left: 50%;z-index: 0;}#sk-container-id-2 div.sk-serial {display: flex;flex-direction: column;align-items: center;background-color: white;padding-right: 0.2em;padding-left: 0.2em;position: relative;}#sk-container-id-2 div.sk-item {position: relative;z-index: 1;}#sk-container-id-2 div.sk-parallel {display: flex;align-items: stretch;justify-content: center;background-color: white;position: relative;}#sk-container-id-2 div.sk-item::before, #sk-container-id-2 div.sk-parallel-item::before {content: \"\";position: absolute;border-left: 1px solid gray;box-sizing: border-box;top: 0;bottom: 0;left: 50%;z-index: -1;}#sk-container-id-2 div.sk-parallel-item {display: flex;flex-direction: column;z-index: 1;position: relative;background-color: white;}#sk-container-id-2 div.sk-parallel-item:first-child::after {align-self: flex-end;width: 50%;}#sk-container-id-2 div.sk-parallel-item:last-child::after {align-self: flex-start;width: 50%;}#sk-container-id-2 div.sk-parallel-item:only-child::after {width: 0;}#sk-container-id-2 div.sk-dashed-wrapped {border: 1px dashed gray;margin: 0 0.4em 0.5em 0.4em;box-sizing: border-box;padding-bottom: 0.4em;background-color: white;}#sk-container-id-2 div.sk-label label {font-family: monospace;font-weight: bold;display: inline-block;line-height: 1.2em;}#sk-container-id-2 div.sk-label-container {text-align: center;}#sk-container-id-2 div.sk-container {/* jupyter's `normalize.less` sets `[hidden] { display: none; }` but bootstrap.min.css set `[hidden] { display: none !important; }` so we also need the `!important` here to be able to override the default hidden behavior on the sphinx rendered scikit-learn.org. See: https://github.com/scikit-learn/scikit-learn/issues/21755 */display: inline-block !important;position: relative;}#sk-container-id-2 div.sk-text-repr-fallback {display: none;}</style><div id=\"sk-container-id-2\" class=\"sk-top-container\"><div class=\"sk-text-repr-fallback\"><pre>XGBRegressor(base_score=0.5, booster=&#x27;gbtree&#x27;, callbacks=None,\n",
       "             colsample_bylevel=1, colsample_bynode=1, colsample_bytree=1,\n",
       "             early_stopping_rounds=None, enable_categorical=False, eta=0.2,\n",
       "             eval_metric=None, gamma=3, gpu_id=-1, grow_policy=&#x27;depthwise&#x27;,\n",
       "             importance_type=None, interaction_constraints=&#x27;&#x27;,\n",
       "             learning_rate=0.200000003, max_bin=256, max_cat_to_onehot=4,\n",
       "             max_delta_step=0, max_depth=5, max_leaves=0, min_child_weight=5,\n",
       "             missing=nan, monotone_constraints=&#x27;()&#x27;, n_estimators=100, n_jobs=0,\n",
       "             num_parallel_tree=1, predictor=&#x27;auto&#x27;, random_state=0, reg_alpha=0, ...)</pre><b>In a Jupyter environment, please rerun this cell to show the HTML representation or trust the notebook. <br />On GitHub, the HTML representation is unable to render, please try loading this page with nbviewer.org.</b></div><div class=\"sk-container\" hidden><div class=\"sk-item\"><div class=\"sk-estimator sk-toggleable\"><input class=\"sk-toggleable__control sk-hidden--visually\" id=\"sk-estimator-id-2\" type=\"checkbox\" checked><label for=\"sk-estimator-id-2\" class=\"sk-toggleable__label sk-toggleable__label-arrow\">XGBRegressor</label><div class=\"sk-toggleable__content\"><pre>XGBRegressor(base_score=0.5, booster=&#x27;gbtree&#x27;, callbacks=None,\n",
       "             colsample_bylevel=1, colsample_bynode=1, colsample_bytree=1,\n",
       "             early_stopping_rounds=None, enable_categorical=False, eta=0.2,\n",
       "             eval_metric=None, gamma=3, gpu_id=-1, grow_policy=&#x27;depthwise&#x27;,\n",
       "             importance_type=None, interaction_constraints=&#x27;&#x27;,\n",
       "             learning_rate=0.200000003, max_bin=256, max_cat_to_onehot=4,\n",
       "             max_delta_step=0, max_depth=5, max_leaves=0, min_child_weight=5,\n",
       "             missing=nan, monotone_constraints=&#x27;()&#x27;, n_estimators=100, n_jobs=0,\n",
       "             num_parallel_tree=1, predictor=&#x27;auto&#x27;, random_state=0, reg_alpha=0, ...)</pre></div></div></div></div></div>"
      ],
      "text/plain": [
       "XGBRegressor(base_score=0.5, booster='gbtree', callbacks=None,\n",
       "             colsample_bylevel=1, colsample_bynode=1, colsample_bytree=1,\n",
       "             early_stopping_rounds=None, enable_categorical=False, eta=0.2,\n",
       "             eval_metric=None, gamma=3, gpu_id=-1, grow_policy='depthwise',\n",
       "             importance_type=None, interaction_constraints='',\n",
       "             learning_rate=0.200000003, max_bin=256, max_cat_to_onehot=4,\n",
       "             max_delta_step=0, max_depth=5, max_leaves=0, min_child_weight=5,\n",
       "             missing=nan, monotone_constraints='()', n_estimators=100, n_jobs=0,\n",
       "             num_parallel_tree=1, predictor='auto', random_state=0, reg_alpha=0, ...)"
      ]
     },
     "execution_count": 40,
     "metadata": {},
     "output_type": "execute_result"
    }
   ],
   "source": [
    "xgbr.fit(X_train, y_train)"
   ]
  },
  {
   "cell_type": "markdown",
   "id": "1627219d",
   "metadata": {},
   "source": [
    "### Predict the output of fitting the xgboost model on the tran & test dataset."
   ]
  },
  {
   "cell_type": "code",
   "execution_count": 41,
   "id": "2526f338",
   "metadata": {},
   "outputs": [],
   "source": [
    "y_train_pred = xgbr.predict(X_train)"
   ]
  },
  {
   "cell_type": "code",
   "execution_count": 42,
   "id": "9ac37d40",
   "metadata": {},
   "outputs": [],
   "source": [
    "y_valid_pred = xgbr.predict(X_valid)"
   ]
  },
  {
   "cell_type": "markdown",
   "id": "01ab4f6e",
   "metadata": {},
   "source": [
    "### Calculate the R2 score"
   ]
  },
  {
   "cell_type": "code",
   "execution_count": 43,
   "id": "0d683a6a",
   "metadata": {},
   "outputs": [
    {
     "name": "stdout",
     "output_type": "stream",
     "text": [
      "R2 score of the XGBoost model on the train dataset is : \n",
      "0.7889327790409493\n"
     ]
    }
   ],
   "source": [
    "print(\"R2 score of the XGBoost model on the train dataset is : \")\n",
    "print(xgbr.score(X_train, y_train))"
   ]
  },
  {
   "cell_type": "code",
   "execution_count": 44,
   "id": "d9b6f8ad",
   "metadata": {},
   "outputs": [
    {
     "name": "stdout",
     "output_type": "stream",
     "text": [
      "R2 score of the XGBoost model on the test dataset is : \n",
      "0.41902757259506385\n"
     ]
    }
   ],
   "source": [
    "print(\"R2 score of the XGBoost model on the test dataset is : \")\n",
    "print(xgbr.score(X_valid, y_valid))"
   ]
  },
  {
   "cell_type": "markdown",
   "id": "2f6cf8a8",
   "metadata": {},
   "source": [
    "### Calculate the RMSE value of the model."
   ]
  },
  {
   "cell_type": "code",
   "execution_count": 45,
   "id": "5dc96273",
   "metadata": {},
   "outputs": [
    {
     "name": "stdout",
     "output_type": "stream",
     "text": [
      "RMSE value of the train dataset is: \n",
      "5.653590195114792\n"
     ]
    }
   ],
   "source": [
    "from sklearn.metrics import mean_squared_error\n",
    "print(\"RMSE value of the train dataset is: \")\n",
    "print(np.sqrt(mean_squared_error(y_train,y_train_pred)))"
   ]
  },
  {
   "cell_type": "code",
   "execution_count": 46,
   "id": "afbf053b",
   "metadata": {},
   "outputs": [
    {
     "name": "stdout",
     "output_type": "stream",
     "text": [
      "RMSE value of the validation dataset is: \n",
      "9.215364123519379\n"
     ]
    }
   ],
   "source": [
    "print(\"RMSE value of the validation dataset is: \")\n",
    "print(np.sqrt(mean_squared_error(y_valid,y_valid_pred)))"
   ]
  },
  {
   "cell_type": "markdown",
   "id": "c37b3c26",
   "metadata": {},
   "source": [
    "### Predict the test dataset values using XGBoost."
   ]
  },
  {
   "cell_type": "code",
   "execution_count": 47,
   "id": "40cf0500",
   "metadata": {},
   "outputs": [
    {
     "data": {
      "text/html": [
       "<div>\n",
       "<style scoped>\n",
       "    .dataframe tbody tr th:only-of-type {\n",
       "        vertical-align: middle;\n",
       "    }\n",
       "\n",
       "    .dataframe tbody tr th {\n",
       "        vertical-align: top;\n",
       "    }\n",
       "\n",
       "    .dataframe thead th {\n",
       "        text-align: right;\n",
       "    }\n",
       "</style>\n",
       "<table border=\"1\" class=\"dataframe\">\n",
       "  <thead>\n",
       "    <tr style=\"text-align: right;\">\n",
       "      <th></th>\n",
       "      <th>y</th>\n",
       "    </tr>\n",
       "  </thead>\n",
       "  <tbody>\n",
       "    <tr>\n",
       "      <th>0</th>\n",
       "      <td>81.167282</td>\n",
       "    </tr>\n",
       "    <tr>\n",
       "      <th>1</th>\n",
       "      <td>88.325836</td>\n",
       "    </tr>\n",
       "    <tr>\n",
       "      <th>2</th>\n",
       "      <td>91.111420</td>\n",
       "    </tr>\n",
       "    <tr>\n",
       "      <th>3</th>\n",
       "      <td>78.945305</td>\n",
       "    </tr>\n",
       "    <tr>\n",
       "      <th>4</th>\n",
       "      <td>114.523598</td>\n",
       "    </tr>\n",
       "  </tbody>\n",
       "</table>\n",
       "</div>"
      ],
      "text/plain": [
       "            y\n",
       "0   81.167282\n",
       "1   88.325836\n",
       "2   91.111420\n",
       "3   78.945305\n",
       "4  114.523598"
      ]
     },
     "execution_count": 47,
     "metadata": {},
     "output_type": "execute_result"
    }
   ],
   "source": [
    "test_pred = xgbr.predict(test_pca)\n",
    "Predicted_Data = pd.DataFrame()\n",
    "Predicted_Data['y'] = test_pred\n",
    "Predicted_Data.head()"
   ]
  },
  {
   "cell_type": "code",
   "execution_count": null,
   "id": "8f776a0a",
   "metadata": {},
   "outputs": [],
   "source": []
  },
  {
   "cell_type": "code",
   "execution_count": null,
   "id": "7b978500",
   "metadata": {},
   "outputs": [],
   "source": []
  }
 ],
 "metadata": {
  "kernelspec": {
   "display_name": "Python 3 (ipykernel)",
   "language": "python",
   "name": "python3"
  },
  "language_info": {
   "codemirror_mode": {
    "name": "ipython",
    "version": 3
   },
   "file_extension": ".py",
   "mimetype": "text/x-python",
   "name": "python",
   "nbconvert_exporter": "python",
   "pygments_lexer": "ipython3",
   "version": "3.9.12"
  }
 },
 "nbformat": 4,
 "nbformat_minor": 5
}
